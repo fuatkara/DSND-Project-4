{
 "cells": [
  {
   "cell_type": "markdown",
   "metadata": {},
   "source": [
    "# Starbucks Capstone Challenge\n",
    "\n",
    "### Introduction\n",
    "\n",
    "This data set contains simulated data that mimics customer behavior on the Starbucks rewards mobile app. Once every few days, Starbucks sends out an offer to users of the mobile app. An offer can be merely an advertisement for a drink or an actual offer such as a discount or BOGO (buy one get one free). Some users might not receive any offer during certain weeks. \n",
    "\n",
    "Not all users receive the same offer, and that is the challenge to solve with this data set.\n",
    "\n",
    "Your task is to combine transaction, demographic and offer data to determine which demographic groups respond best to which offer type. This data set is a simplified version of the real Starbucks app because the underlying simulator only has one product whereas Starbucks actually sells dozens of products.\n",
    "\n",
    "Every offer has a validity period before the offer expires. As an example, a BOGO offer might be valid for only 5 days. You'll see in the data set that informational offers have a validity period even though these ads are merely providing information about a product; for example, if an informational offer has 7 days of validity, you can assume the customer is feeling the influence of the offer for 7 days after receiving the advertisement.\n",
    "\n",
    "You'll be given transactional data showing user purchases made on the app including the timestamp of purchase and the amount of money spent on a purchase. This transactional data also has a record for each offer that a user receives as well as a record for when a user actually views the offer. There are also records for when a user completes an offer. \n",
    "\n",
    "Keep in mind as well that someone using the app might make a purchase through the app without having received an offer or seen an offer.\n",
    "\n",
    "### Example\n",
    "\n",
    "To give an example, a user could receive a discount offer buy 10 dollars get 2 off on Monday. The offer is valid for 10 days from receipt. If the customer accumulates at least 10 dollars in purchases during the validity period, the customer completes the offer.\n",
    "\n",
    "However, there are a few things to watch out for in this data set. Customers do not opt into the offers that they receive; in other words, a user can receive an offer, never actually view the offer, and still complete the offer. For example, a user might receive the \"buy 10 dollars get 2 dollars off offer\", but the user never opens the offer during the 10 day validity period. The customer spends 15 dollars during those ten days. There will be an offer completion record in the data set; however, the customer was not influenced by the offer because the customer never viewed the offer.\n",
    "\n",
    "### Cleaning\n",
    "\n",
    "This makes data cleaning especially important and tricky.\n",
    "\n",
    "You'll also want to take into account that some demographic groups will make purchases even if they don't receive an offer. From a business perspective, if a customer is going to make a 10 dollar purchase without an offer anyway, you wouldn't want to send a buy 10 dollars get 2 dollars off offer. You'll want to try to assess what a certain demographic group will buy when not receiving any offers.\n",
    "\n",
    "### Final Advice\n",
    "\n",
    "Because this is a capstone project, you are free to analyze the data any way you see fit. For example, you could build a machine learning model that predicts how much someone will spend based on demographics and offer type. Or you could build a model that predicts whether or not someone will respond to an offer. Or, you don't need to build a machine learning model at all. You could develop a set of heuristics that determine what offer you should send to each customer (i.e., 75 percent of women customers who were 35 years old responded to offer A vs 40 percent from the same demographic to offer B, so send offer A)."
   ]
  },
  {
   "cell_type": "markdown",
   "metadata": {},
   "source": [
    "# Data Sets\n",
    "\n",
    "The data is contained in three files:\n",
    "\n",
    "* portfolio.json - containing offer ids and meta data about each offer (duration, type, etc.)\n",
    "* profile.json - demographic data for each customer\n",
    "* transcript.json - records for transactions, offers received, offers viewed, and offers completed\n",
    "\n",
    "Here is the schema and explanation of each variable in the files:\n",
    "\n",
    "**portfolio.json**\n",
    "* id (string) - offer id\n",
    "* offer_type (string) - type of offer ie BOGO, discount, informational\n",
    "* difficulty (int) - minimum required spend to complete an offer\n",
    "* reward (int) - reward given for completing an offer\n",
    "* duration (int) - time for offer to be open, in days\n",
    "* channels (list of strings)\n",
    "\n",
    "**profile.json**\n",
    "* age (int) - age of the customer \n",
    "* became_member_on (int) - date when customer created an app account\n",
    "* gender (str) - gender of the customer (note some entries contain 'O' for other rather than M or F)\n",
    "* id (str) - customer id\n",
    "* income (float) - customer's income\n",
    "\n",
    "**transcript.json**\n",
    "* event (str) - record description (ie transaction, offer received, offer viewed, etc.)\n",
    "* person (str) - customer id\n",
    "* time (int) - time in hours since start of test. The data begins at time t=0\n",
    "* value - (dict of strings) - either an offer id or transaction amount depending on the record\n",
    "\n",
    "**Note:** If you are using the workspace, you will need to go to the terminal and run the command `conda update pandas` before reading in the files. This is because the version of pandas in the workspace cannot read in the transcript.json file correctly, but the newest version of pandas can. You can access the termnal from the orange icon in the top left of this notebook.  \n",
    "\n",
    "You can see how to access the terminal and how the install works using the two images below.  First you need to access the terminal:\n",
    "\n",
    "<img src=\"pic1.png\"/>\n",
    "\n",
    "Then you will want to run the above command:\n",
    "\n",
    "<img src=\"pic2.png\"/>\n",
    "\n",
    "Finally, when you enter back into the notebook (use the jupyter icon again), you should be able to run the below cell without any errors."
   ]
  },
  {
   "cell_type": "code",
   "execution_count": 1,
   "metadata": {},
   "outputs": [],
   "source": [
    "import pandas as pd\n",
    "import numpy as np\n",
    "import math\n",
    "import json\n",
    "% matplotlib inline\n",
    "\n",
    "# read in the json files\n",
    "portfolio = pd.read_json('data/portfolio.json', orient='records', lines=True)\n",
    "profile = pd.read_json('data/profile.json', orient='records', lines=True)\n",
    "transcript = pd.read_json('data/transcript.json', orient='records', lines=True)"
   ]
  },
  {
   "cell_type": "code",
   "execution_count": 4,
   "metadata": {},
   "outputs": [],
   "source": [
    "from sklearn.metrics import fbeta_score, accuracy_score, f1_score\n",
    "from time import time\n",
    "import matplotlib.pyplot as plt\n",
    "import matplotlib.patches as mpatches\n",
    "import sys\n",
    "import seaborn as sns"
   ]
  },
  {
   "cell_type": "code",
   "execution_count": 5,
   "metadata": {},
   "outputs": [
    {
     "data": {
      "text/plain": [
       "(10, 6)"
      ]
     },
     "execution_count": 5,
     "metadata": {},
     "output_type": "execute_result"
    }
   ],
   "source": [
    "portfolio.shape"
   ]
  },
  {
   "cell_type": "code",
   "execution_count": 6,
   "metadata": {},
   "outputs": [
    {
     "data": {
      "text/plain": [
       "(17000, 5)"
      ]
     },
     "execution_count": 6,
     "metadata": {},
     "output_type": "execute_result"
    }
   ],
   "source": [
    "profile.shape"
   ]
  },
  {
   "cell_type": "code",
   "execution_count": 7,
   "metadata": {},
   "outputs": [
    {
     "data": {
      "text/plain": [
       "(306534, 4)"
      ]
     },
     "execution_count": 7,
     "metadata": {},
     "output_type": "execute_result"
    }
   ],
   "source": [
    "transcript.shape"
   ]
  },
  {
   "cell_type": "code",
   "execution_count": 8,
   "metadata": {},
   "outputs": [
    {
     "data": {
      "text/html": [
       "<div>\n",
       "<style scoped>\n",
       "    .dataframe tbody tr th:only-of-type {\n",
       "        vertical-align: middle;\n",
       "    }\n",
       "\n",
       "    .dataframe tbody tr th {\n",
       "        vertical-align: top;\n",
       "    }\n",
       "\n",
       "    .dataframe thead th {\n",
       "        text-align: right;\n",
       "    }\n",
       "</style>\n",
       "<table border=\"1\" class=\"dataframe\">\n",
       "  <thead>\n",
       "    <tr style=\"text-align: right;\">\n",
       "      <th></th>\n",
       "      <th>channels</th>\n",
       "      <th>difficulty</th>\n",
       "      <th>duration</th>\n",
       "      <th>id</th>\n",
       "      <th>offer_type</th>\n",
       "      <th>reward</th>\n",
       "    </tr>\n",
       "  </thead>\n",
       "  <tbody>\n",
       "    <tr>\n",
       "      <th>0</th>\n",
       "      <td>[email, mobile, social]</td>\n",
       "      <td>10</td>\n",
       "      <td>7</td>\n",
       "      <td>ae264e3637204a6fb9bb56bc8210ddfd</td>\n",
       "      <td>bogo</td>\n",
       "      <td>10</td>\n",
       "    </tr>\n",
       "    <tr>\n",
       "      <th>1</th>\n",
       "      <td>[web, email, mobile, social]</td>\n",
       "      <td>10</td>\n",
       "      <td>5</td>\n",
       "      <td>4d5c57ea9a6940dd891ad53e9dbe8da0</td>\n",
       "      <td>bogo</td>\n",
       "      <td>10</td>\n",
       "    </tr>\n",
       "    <tr>\n",
       "      <th>2</th>\n",
       "      <td>[web, email, mobile]</td>\n",
       "      <td>0</td>\n",
       "      <td>4</td>\n",
       "      <td>3f207df678b143eea3cee63160fa8bed</td>\n",
       "      <td>informational</td>\n",
       "      <td>0</td>\n",
       "    </tr>\n",
       "    <tr>\n",
       "      <th>3</th>\n",
       "      <td>[web, email, mobile]</td>\n",
       "      <td>5</td>\n",
       "      <td>7</td>\n",
       "      <td>9b98b8c7a33c4b65b9aebfe6a799e6d9</td>\n",
       "      <td>bogo</td>\n",
       "      <td>5</td>\n",
       "    </tr>\n",
       "    <tr>\n",
       "      <th>4</th>\n",
       "      <td>[web, email]</td>\n",
       "      <td>20</td>\n",
       "      <td>10</td>\n",
       "      <td>0b1e1539f2cc45b7b9fa7c272da2e1d7</td>\n",
       "      <td>discount</td>\n",
       "      <td>5</td>\n",
       "    </tr>\n",
       "  </tbody>\n",
       "</table>\n",
       "</div>"
      ],
      "text/plain": [
       "                       channels  difficulty  duration  \\\n",
       "0       [email, mobile, social]          10         7   \n",
       "1  [web, email, mobile, social]          10         5   \n",
       "2          [web, email, mobile]           0         4   \n",
       "3          [web, email, mobile]           5         7   \n",
       "4                  [web, email]          20        10   \n",
       "\n",
       "                                 id     offer_type  reward  \n",
       "0  ae264e3637204a6fb9bb56bc8210ddfd           bogo      10  \n",
       "1  4d5c57ea9a6940dd891ad53e9dbe8da0           bogo      10  \n",
       "2  3f207df678b143eea3cee63160fa8bed  informational       0  \n",
       "3  9b98b8c7a33c4b65b9aebfe6a799e6d9           bogo       5  \n",
       "4  0b1e1539f2cc45b7b9fa7c272da2e1d7       discount       5  "
      ]
     },
     "execution_count": 8,
     "metadata": {},
     "output_type": "execute_result"
    }
   ],
   "source": [
    "portfolio.head(5)"
   ]
  },
  {
   "cell_type": "code",
   "execution_count": 9,
   "metadata": {},
   "outputs": [
    {
     "name": "stdout",
     "output_type": "stream",
     "text": [
      "<class 'pandas.core.frame.DataFrame'>\n",
      "RangeIndex: 10 entries, 0 to 9\n",
      "Data columns (total 6 columns):\n",
      "channels      10 non-null object\n",
      "difficulty    10 non-null int64\n",
      "duration      10 non-null int64\n",
      "id            10 non-null object\n",
      "offer_type    10 non-null object\n",
      "reward        10 non-null int64\n",
      "dtypes: int64(3), object(3)\n",
      "memory usage: 560.0+ bytes\n"
     ]
    }
   ],
   "source": [
    "portfolio.info()"
   ]
  },
  {
   "cell_type": "code",
   "execution_count": 10,
   "metadata": {},
   "outputs": [],
   "source": [
    "def horizontal_bar_plot(df, colName, pltTitle, pltfigsize=[5,5], bInvertYAxis=True, fntSize=12, fntWeight='bold'):\n",
    "    \"\"\"\n",
    "    Creates a horizontal bar plot with counts of categories\n",
    "    \n",
    "    Parameters\n",
    "    ----------\n",
    "    df: The dataframe with categories.\n",
    "    \n",
    "    colName: The name of the column containing the categories.\n",
    "    \n",
    "    pltTitle: The plot title.\n",
    "    \n",
    "    pltfigsize: The figure size of the plot (default is [5,5]).\n",
    "    \n",
    "    bInvertYAxis: A flag to indicating whether to invert the Y-Axis or not.\n",
    "    \n",
    "    fntSize: The font size of text (default to 12 point font size)\n",
    "    \n",
    "    fntWeight: The weight of font (default to 'bold', it could be 'italic')\n",
    "    \n",
    "    Returns\n",
    "    -------\n",
    "    None\n",
    "    \"\"\"\n",
    "    plt.figure(figsize=pltfigsize)\n",
    "    fig, ax = plt.subplots()    \n",
    "    y_counts = df[colName].value_counts()\n",
    "    if bInvertYAxis == True:\n",
    "        y_counts.plot(kind='barh').invert_yaxis()\n",
    "    else:\n",
    "         y_counts.plot(kind='barh')   \n",
    "    for i, v in enumerate(y_counts):\n",
    "        ax.text(v, i, str(v), color='black', fontsize=fntSize, fontweight=fntWeight)\n",
    "        plt.title(pltTitle)"
   ]
  },
  {
   "cell_type": "code",
   "execution_count": 11,
   "metadata": {},
   "outputs": [
    {
     "data": {
      "text/plain": [
       "<matplotlib.figure.Figure at 0x7f2293aa83c8>"
      ]
     },
     "metadata": {},
     "output_type": "display_data"
    },
    {
     "data": {
      "image/png": "[encoded data removed]",
      "text/plain": [
       "<matplotlib.figure.Figure at 0x7f2293aa8f60>"
      ]
     },
     "metadata": {
      "needs_background": "light"
     },
     "output_type": "display_data"
    }
   ],
   "source": [
    "horizontal_bar_plot(portfolio, 'offer_type', \"Break-down of available offer types in portfolio\")"
   ]
  },
  {
   "cell_type": "code",
   "execution_count": 12,
   "metadata": {},
   "outputs": [
    {
     "data": {
      "text/plain": [
       "<matplotlib.figure.Figure at 0x7f2293ab5c50>"
      ]
     },
     "metadata": {},
     "output_type": "display_data"
    },
    {
     "data": {
      "image/png": "[encoded data removed]",
      "text/plain": [
       "<matplotlib.figure.Figure at 0x7f2293aaddd8>"
      ]
     },
     "metadata": {
      "needs_background": "light"
     },
     "output_type": "display_data"
    }
   ],
   "source": [
    "horizontal_bar_plot(portfolio, 'duration', \"Break-down of offer duration in portfolio\")"
   ]
  },
  {
   "cell_type": "code",
   "execution_count": 13,
   "metadata": {},
   "outputs": [],
   "source": [
    "#We can see from above that the portfolio table consists of 10 not-null entries that contains information about the offers provided by starbucks. It has channels through which the specific offers are deployed which consists of elements in a list, which has to be handled later in the process.\n",
    "#Finally, We can see a histogram containing a distribution of 3 offer types totalling in 10 entries.\n",
    "#This table needs to be cleaned and in the next session this will be done in the next phase."
   ]
  },
  {
   "cell_type": "code",
   "execution_count": 14,
   "metadata": {},
   "outputs": [],
   "source": [
    "#Profile"
   ]
  },
  {
   "cell_type": "code",
   "execution_count": 15,
   "metadata": {},
   "outputs": [
    {
     "data": {
      "text/html": [
       "<div>\n",
       "<style scoped>\n",
       "    .dataframe tbody tr th:only-of-type {\n",
       "        vertical-align: middle;\n",
       "    }\n",
       "\n",
       "    .dataframe tbody tr th {\n",
       "        vertical-align: top;\n",
       "    }\n",
       "\n",
       "    .dataframe thead th {\n",
       "        text-align: right;\n",
       "    }\n",
       "</style>\n",
       "<table border=\"1\" class=\"dataframe\">\n",
       "  <thead>\n",
       "    <tr style=\"text-align: right;\">\n",
       "      <th></th>\n",
       "      <th>age</th>\n",
       "      <th>became_member_on</th>\n",
       "      <th>gender</th>\n",
       "      <th>id</th>\n",
       "      <th>income</th>\n",
       "    </tr>\n",
       "  </thead>\n",
       "  <tbody>\n",
       "    <tr>\n",
       "      <th>0</th>\n",
       "      <td>118</td>\n",
       "      <td>20170212</td>\n",
       "      <td>None</td>\n",
       "      <td>68be06ca386d4c31939f3a4f0e3dd783</td>\n",
       "      <td>NaN</td>\n",
       "    </tr>\n",
       "    <tr>\n",
       "      <th>1</th>\n",
       "      <td>55</td>\n",
       "      <td>20170715</td>\n",
       "      <td>F</td>\n",
       "      <td>0610b486422d4921ae7d2bf64640c50b</td>\n",
       "      <td>112000.0</td>\n",
       "    </tr>\n",
       "    <tr>\n",
       "      <th>2</th>\n",
       "      <td>118</td>\n",
       "      <td>20180712</td>\n",
       "      <td>None</td>\n",
       "      <td>38fe809add3b4fcf9315a9694bb96ff5</td>\n",
       "      <td>NaN</td>\n",
       "    </tr>\n",
       "    <tr>\n",
       "      <th>3</th>\n",
       "      <td>75</td>\n",
       "      <td>20170509</td>\n",
       "      <td>F</td>\n",
       "      <td>78afa995795e4d85b5d9ceeca43f5fef</td>\n",
       "      <td>100000.0</td>\n",
       "    </tr>\n",
       "    <tr>\n",
       "      <th>4</th>\n",
       "      <td>118</td>\n",
       "      <td>20170804</td>\n",
       "      <td>None</td>\n",
       "      <td>a03223e636434f42ac4c3df47e8bac43</td>\n",
       "      <td>NaN</td>\n",
       "    </tr>\n",
       "  </tbody>\n",
       "</table>\n",
       "</div>"
      ],
      "text/plain": [
       "   age  became_member_on gender                                id    income\n",
       "0  118          20170212   None  68be06ca386d4c31939f3a4f0e3dd783       NaN\n",
       "1   55          20170715      F  0610b486422d4921ae7d2bf64640c50b  112000.0\n",
       "2  118          20180712   None  38fe809add3b4fcf9315a9694bb96ff5       NaN\n",
       "3   75          20170509      F  78afa995795e4d85b5d9ceeca43f5fef  100000.0\n",
       "4  118          20170804   None  a03223e636434f42ac4c3df47e8bac43       NaN"
      ]
     },
     "execution_count": 15,
     "metadata": {},
     "output_type": "execute_result"
    }
   ],
   "source": [
    "profile.head(5)"
   ]
  },
  {
   "cell_type": "code",
   "execution_count": 16,
   "metadata": {},
   "outputs": [
    {
     "name": "stdout",
     "output_type": "stream",
     "text": [
      "<class 'pandas.core.frame.DataFrame'>\n",
      "RangeIndex: 17000 entries, 0 to 16999\n",
      "Data columns (total 5 columns):\n",
      "age                 17000 non-null int64\n",
      "became_member_on    17000 non-null int64\n",
      "gender              14825 non-null object\n",
      "id                  17000 non-null object\n",
      "income              14825 non-null float64\n",
      "dtypes: float64(1), int64(2), object(2)\n",
      "memory usage: 664.1+ KB\n"
     ]
    }
   ],
   "source": [
    "profile.info()"
   ]
  },
  {
   "cell_type": "code",
   "execution_count": 17,
   "metadata": {},
   "outputs": [],
   "source": [
    "def exploded_pie_plot(df, colName, pltTitle, pltColors=[], pltLabels=[], pltExplode=(), pltFigSize=[5, 5]):\n",
    "    \"\"\"\n",
    "    Creates an exploded pie plot with percentages of each categories for the column provided.\n",
    "    \n",
    "    Parameters\n",
    "    ----------\n",
    "    df: The dataframe with categories.\n",
    "    \n",
    "    colName: The name of the column containing the categories.\n",
    "    \n",
    "    pltTitle: The plot title.\n",
    "    \n",
    "    pltColors: The array of colors to use.\n",
    "    \n",
    "    pltLabels: The array of plot labels to use for each of the categories.\n",
    "    \n",
    "    pltExplode: The proportions to pass in for exploding the slices (e.g. 0.1, 0, 0 will explode the first category out by 10%)\n",
    "    \n",
    "    pltFigSize: The figure size of the plot (default is [5,5])\n",
    "    \n",
    "    Returns\n",
    "    -------\n",
    "    None\n",
    "    \"\"\"\n",
    "    plt.figure(figsize=[5, 5])\n",
    "    pltValues = df[colName].value_counts()\n",
    "    colors = pltColors\n",
    "    labels = pltLabels\n",
    "    explode = pltExplode # if (0.1, 0, 0) then explode 1st slice by 10% and dont explode 2nd and 3rd slizes\n",
    "    plt.pie(pltValues, colors=pltColors, labels=pltLabels, explode=pltExplode, autopct='%1.2f%%', counterclock=False, shadow=True)\n",
    "    plt.title(pltTitle)"
   ]
  },
  {
   "cell_type": "code",
   "execution_count": 18,
   "metadata": {},
   "outputs": [
    {
     "data": {
      "image/png": "[encoded data removed]",
      "text/plain": [
       "<matplotlib.figure.Figure at 0x7f2293ab87b8>"
      ]
     },
     "metadata": {},
     "output_type": "display_data"
    }
   ],
   "source": [
    "exploded_pie_plot(profile, 'gender', 'Gender distribution in profile', ['blue', 'darkorange', 'green'], ['Male', 'Female', 'Other'], (0.1, 0, 0))"
   ]
  },
  {
   "cell_type": "code",
   "execution_count": 19,
   "metadata": {},
   "outputs": [
    {
     "data": {
      "image/png": "[encoded data removed]",
      "text/plain": [
       "<matplotlib.figure.Figure at 0x7f22939c97b8>"
      ]
     },
     "metadata": {},
     "output_type": "display_data"
    }
   ],
   "source": [
    "#Creating Subplots for distribution based on Gender,Age and Income\n",
    "sns.set_style('darkgrid')\n",
    "fig,ax= plt.subplots(1,2,sharex=False, sharey=False,figsize=(12,5))\n",
    "fig.tight_layout()\n",
    "\n",
    "# AGE BASED\n",
    "profile.age.plot.hist(ax=ax[0],fontsize=10,edgecolor='black') \n",
    "ax[0].set_title(\"Distribution Age  Wise\", fontsize=15,color='blue')\n",
    "ax[0].set_xlabel(\"Age\", fontsize=10)\n",
    "ax[0].set_ylabel(\"Frequency\", fontsize=10)\n",
    "sns.despine(bottom=True, left=True)\n",
    "\n",
    "# INCOME BASED\n",
    "profile.income.plot.hist(ax=ax[1],fontsize=10,edgecolor='black',range=(20000, 120000)) \n",
    "ax[1].set_title(\"Distribution Income Wise\", fontsize=15,color='blue')\n",
    "ax[1].set_xlabel(\"Income\", fontsize=10)\n",
    "ax[1].set_ylabel(\"Frequency\", fontsize=10)\n",
    "sns.despine(bottom=True, left=True)\n",
    "plt.show()"
   ]
  },
  {
   "cell_type": "markdown",
   "metadata": {},
   "source": [
    "We can see from above that the profile table consists of 17000 entries with some null elements in the columns gender and income. Also, from the dashboard above we can see the distribution of the members according to gender, age and income. We can also see that with respect to the distribution according to the gender, the frequency of males is more than the female with little population towards others. Secondly, while looking at age-wise distribution it is evident that the age group from 50-70 is the highest. Finally, while looking at the income-wise distribution, members with income ranging from 40k- 80k are high than others. We need to clean this profile table as it contains all values as well as the age value of 118 which has a lot of frequency and it is due to some data entry"
   ]
  },
  {
   "cell_type": "code",
   "execution_count": 20,
   "metadata": {},
   "outputs": [],
   "source": [
    "#Transcript"
   ]
  },
  {
   "cell_type": "code",
   "execution_count": 21,
   "metadata": {},
   "outputs": [
    {
     "data": {
      "text/html": [
       "<div>\n",
       "<style scoped>\n",
       "    .dataframe tbody tr th:only-of-type {\n",
       "        vertical-align: middle;\n",
       "    }\n",
       "\n",
       "    .dataframe tbody tr th {\n",
       "        vertical-align: top;\n",
       "    }\n",
       "\n",
       "    .dataframe thead th {\n",
       "        text-align: right;\n",
       "    }\n",
       "</style>\n",
       "<table border=\"1\" class=\"dataframe\">\n",
       "  <thead>\n",
       "    <tr style=\"text-align: right;\">\n",
       "      <th></th>\n",
       "      <th>event</th>\n",
       "      <th>person</th>\n",
       "      <th>time</th>\n",
       "      <th>value</th>\n",
       "    </tr>\n",
       "  </thead>\n",
       "  <tbody>\n",
       "    <tr>\n",
       "      <th>0</th>\n",
       "      <td>offer received</td>\n",
       "      <td>78afa995795e4d85b5d9ceeca43f5fef</td>\n",
       "      <td>0</td>\n",
       "      <td>{'offer id': '9b98b8c7a33c4b65b9aebfe6a799e6d9'}</td>\n",
       "    </tr>\n",
       "    <tr>\n",
       "      <th>1</th>\n",
       "      <td>offer received</td>\n",
       "      <td>a03223e636434f42ac4c3df47e8bac43</td>\n",
       "      <td>0</td>\n",
       "      <td>{'offer id': '0b1e1539f2cc45b7b9fa7c272da2e1d7'}</td>\n",
       "    </tr>\n",
       "    <tr>\n",
       "      <th>2</th>\n",
       "      <td>offer received</td>\n",
       "      <td>e2127556f4f64592b11af22de27a7932</td>\n",
       "      <td>0</td>\n",
       "      <td>{'offer id': '2906b810c7d4411798c6938adc9daaa5'}</td>\n",
       "    </tr>\n",
       "    <tr>\n",
       "      <th>3</th>\n",
       "      <td>offer received</td>\n",
       "      <td>8ec6ce2a7e7949b1bf142def7d0e0586</td>\n",
       "      <td>0</td>\n",
       "      <td>{'offer id': 'fafdcd668e3743c1bb461111dcafc2a4'}</td>\n",
       "    </tr>\n",
       "    <tr>\n",
       "      <th>4</th>\n",
       "      <td>offer received</td>\n",
       "      <td>68617ca6246f4fbc85e91a2a49552598</td>\n",
       "      <td>0</td>\n",
       "      <td>{'offer id': '4d5c57ea9a6940dd891ad53e9dbe8da0'}</td>\n",
       "    </tr>\n",
       "  </tbody>\n",
       "</table>\n",
       "</div>"
      ],
      "text/plain": [
       "            event                            person  time  \\\n",
       "0  offer received  78afa995795e4d85b5d9ceeca43f5fef     0   \n",
       "1  offer received  a03223e636434f42ac4c3df47e8bac43     0   \n",
       "2  offer received  e2127556f4f64592b11af22de27a7932     0   \n",
       "3  offer received  8ec6ce2a7e7949b1bf142def7d0e0586     0   \n",
       "4  offer received  68617ca6246f4fbc85e91a2a49552598     0   \n",
       "\n",
       "                                              value  \n",
       "0  {'offer id': '9b98b8c7a33c4b65b9aebfe6a799e6d9'}  \n",
       "1  {'offer id': '0b1e1539f2cc45b7b9fa7c272da2e1d7'}  \n",
       "2  {'offer id': '2906b810c7d4411798c6938adc9daaa5'}  \n",
       "3  {'offer id': 'fafdcd668e3743c1bb461111dcafc2a4'}  \n",
       "4  {'offer id': '4d5c57ea9a6940dd891ad53e9dbe8da0'}  "
      ]
     },
     "execution_count": 21,
     "metadata": {},
     "output_type": "execute_result"
    }
   ],
   "source": [
    "transcript.head(5)"
   ]
  },
  {
   "cell_type": "code",
   "execution_count": 22,
   "metadata": {},
   "outputs": [
    {
     "name": "stdout",
     "output_type": "stream",
     "text": [
      "<class 'pandas.core.frame.DataFrame'>\n",
      "RangeIndex: 306534 entries, 0 to 306533\n",
      "Data columns (total 4 columns):\n",
      "event     306534 non-null object\n",
      "person    306534 non-null object\n",
      "time      306534 non-null int64\n",
      "value     306534 non-null object\n",
      "dtypes: int64(1), object(3)\n",
      "memory usage: 9.4+ MB\n"
     ]
    }
   ],
   "source": [
    "transcript.info()"
   ]
  },
  {
   "cell_type": "code",
   "execution_count": 23,
   "metadata": {},
   "outputs": [
    {
     "data": {
      "text/plain": [
       "event     0\n",
       "person    0\n",
       "time      0\n",
       "value     0\n",
       "dtype: int64"
      ]
     },
     "execution_count": 23,
     "metadata": {},
     "output_type": "execute_result"
    }
   ],
   "source": [
    "#check for null values\n",
    "transcript.isnull().sum()"
   ]
  },
  {
   "cell_type": "code",
   "execution_count": 24,
   "metadata": {},
   "outputs": [
    {
     "data": {
      "text/plain": [
       "{'offer id': '2298d6c36e964ae4a3e7e9706d1fb8c2'}                  14983\n",
       "{'offer id': 'fafdcd668e3743c1bb461111dcafc2a4'}                  14924\n",
       "{'offer id': '4d5c57ea9a6940dd891ad53e9dbe8da0'}                  14891\n",
       "{'offer id': 'f19421c1d4aa40978ebb69ca19b0e20d'}                  14835\n",
       "{'offer id': 'ae264e3637204a6fb9bb56bc8210ddfd'}                  14374\n",
       "{'offer id': '5a8bc65990b245e5a138643cd4eb9837'}                  14305\n",
       "{'offer id': '9b98b8c7a33c4b65b9aebfe6a799e6d9'}                  11848\n",
       "{'offer id': '3f207df678b143eea3cee63160fa8bed'}                  11761\n",
       "{'offer id': '2906b810c7d4411798c6938adc9daaa5'}                  11750\n",
       "{'offer id': '0b1e1539f2cc45b7b9fa7c272da2e1d7'}                  10331\n",
       "{'offer_id': 'fafdcd668e3743c1bb461111dcafc2a4', 'reward': 2}      5317\n",
       "{'offer_id': '2298d6c36e964ae4a3e7e9706d1fb8c2', 'reward': 3}      5156\n",
       "{'offer_id': '9b98b8c7a33c4b65b9aebfe6a799e6d9', 'reward': 5}      4354\n",
       "{'offer_id': 'f19421c1d4aa40978ebb69ca19b0e20d', 'reward': 5}      4296\n",
       "{'offer_id': '2906b810c7d4411798c6938adc9daaa5', 'reward': 2}      4017\n",
       "{'offer_id': 'ae264e3637204a6fb9bb56bc8210ddfd', 'reward': 10}     3688\n",
       "{'offer_id': '0b1e1539f2cc45b7b9fa7c272da2e1d7', 'reward': 5}      3420\n",
       "{'offer_id': '4d5c57ea9a6940dd891ad53e9dbe8da0', 'reward': 10}     3331\n",
       "{'amount': 0.05}                                                    431\n",
       "{'amount': 0.66}                                                    166\n",
       "{'amount': 1.18}                                                    165\n",
       "{'amount': 1.01}                                                    163\n",
       "{'amount': 1.23}                                                    161\n",
       "{'amount': 0.9}                                                     161\n",
       "{'amount': 0.53}                                                    159\n",
       "{'amount': 0.5}                                                     159\n",
       "{'amount': 1.19}                                                    159\n",
       "{'amount': 0.79}                                                    157\n",
       "{'amount': 1.5}                                                     156\n",
       "{'amount': 0.92}                                                    156\n",
       "                                                                  ...  \n",
       "{'amount': 49.73}                                                     1\n",
       "{'amount': 749.29}                                                    1\n",
       "{'amount': 83.03}                                                     1\n",
       "{'amount': 51.06}                                                     1\n",
       "{'amount': 53.4}                                                      1\n",
       "{'amount': 47.2}                                                      1\n",
       "{'amount': 1015.73}                                                   1\n",
       "{'amount': 40.83}                                                     1\n",
       "{'amount': 54.44}                                                     1\n",
       "{'amount': 39.82}                                                     1\n",
       "{'amount': 456.79}                                                    1\n",
       "{'amount': 49.82}                                                     1\n",
       "{'amount': 41.61}                                                     1\n",
       "{'amount': 619.63}                                                    1\n",
       "{'amount': 50.37}                                                     1\n",
       "{'amount': 45.76}                                                     1\n",
       "{'amount': 36.99}                                                     1\n",
       "{'amount': 773.21}                                                    1\n",
       "{'amount': 577.21}                                                    1\n",
       "{'amount': 37.3}                                                      1\n",
       "{'amount': 792.54}                                                    1\n",
       "{'amount': 49.38}                                                     1\n",
       "{'amount': 769.04}                                                    1\n",
       "{'amount': 384.03}                                                    1\n",
       "{'amount': 493.4}                                                     1\n",
       "{'amount': 439.14}                                                    1\n",
       "{'amount': 42.75}                                                     1\n",
       "{'amount': 650.75}                                                    1\n",
       "{'amount': 943.4}                                                     1\n",
       "{'amount': 44.21}                                                     1\n",
       "Name: value, Length: 5121, dtype: int64"
      ]
     },
     "execution_count": 24,
     "metadata": {},
     "output_type": "execute_result"
    }
   ],
   "source": [
    "transcript.value.value_counts()"
   ]
  },
  {
   "cell_type": "code",
   "execution_count": 26,
   "metadata": {},
   "outputs": [
    {
     "data": {
      "text/plain": [
       "<matplotlib.figure.Figure at 0x7f229395df28>"
      ]
     },
     "metadata": {},
     "output_type": "display_data"
    },
    {
     "data": {
      "image/png": "[encoded data removed]",
      "text/plain": [
       "<matplotlib.figure.Figure at 0x7f2293a5fba8>"
      ]
     },
     "metadata": {},
     "output_type": "display_data"
    }
   ],
   "source": [
    "horizontal_bar_plot(transcript, 'event', \"Break-down of available event types in transcript\")\n",
    "rotation='vertical'"
   ]
  },
  {
   "cell_type": "markdown",
   "metadata": {},
   "source": [
    "As It has been seen that this table consists of 306534 entries which are all populated and contain no null values. However, this table needs to be cleaned and the offer should be extracted based on the id while simultaneously classifying it based on the completion, view, and received. This will be done in the data cleaning phase."
   ]
  },
  {
   "cell_type": "markdown",
   "metadata": {},
   "source": [
    "## 1- Data Cleaning"
   ]
  },
  {
   "cell_type": "markdown",
   "metadata": {},
   "source": [
    "### Profile"
   ]
  },
  {
   "cell_type": "code",
   "execution_count": 27,
   "metadata": {},
   "outputs": [],
   "source": [
    "def clean_profile(profile = profile):\n",
    "    \"\"\"\n",
    "    Takes the dataframe profile and cleans it by creating one-hot encodings as well as handling null values and  error age value 118.\n",
    "    \n",
    "    PARAMETERS:\n",
    "        Profile dataframe.\n",
    "        \n",
    "    RETURNS:\n",
    "        A new dataframe whithout income values iqual to null and age iqual to 118 as well as one hot encoded columns.\n",
    "    \"\"\"\n",
    "    # drop lines with income = nan and age == 118\n",
    "    new_df = profile.drop(profile[(profile[\"income\"].isnull()) & (profile[\"age\"] == 118)].index)\n",
    "    \n",
    "    # One-hot encode Gender column\n",
    "    gender_dummies = pd.get_dummies(new_df[\"gender\"])\n",
    "    \n",
    "    # Specifying age range and one hot encoding\n",
    "    range_ages = pd.cut(x=new_df[\"age\"], bins=[18, 20, 29, 39, 49, 59, 69, 79, 89, 99, 102])\n",
    "    # One-hot encode ages column\n",
    "    ages_dummies = pd.get_dummies(range_ages)\n",
    "    \n",
    "    # Specifying income range and one hot encoding\n",
    "   \n",
    "    range_income = pd.cut(x=new_df[\"income\"], bins=[30000, 40000, 50000, 60000, 70000, 80000, 90000, 100000, 110000,  120000])\n",
    "    income_dummies = pd.get_dummies(range_income)\n",
    "    \n",
    "\n",
    "    # Concat\n",
    "    new_df = pd.concat([new_df, ages_dummies, income_dummies, gender_dummies], axis=1, sort=False)\n",
    "    \n",
    "    # Dropping age,gender,income column\n",
    "    new_df = new_df.drop([\"age\", \"gender\", \"income\"], axis=1)\n",
    "    \n",
    "    return new_df"
   ]
  },
  {
   "cell_type": "code",
   "execution_count": 28,
   "metadata": {},
   "outputs": [
    {
     "data": {
      "text/html": [
       "<div>\n",
       "<style scoped>\n",
       "    .dataframe tbody tr th:only-of-type {\n",
       "        vertical-align: middle;\n",
       "    }\n",
       "\n",
       "    .dataframe tbody tr th {\n",
       "        vertical-align: top;\n",
       "    }\n",
       "\n",
       "    .dataframe thead th {\n",
       "        text-align: right;\n",
       "    }\n",
       "</style>\n",
       "<table border=\"1\" class=\"dataframe\">\n",
       "  <thead>\n",
       "    <tr style=\"text-align: right;\">\n",
       "      <th></th>\n",
       "      <th>became_member_on</th>\n",
       "      <th>id</th>\n",
       "      <th>(18, 20]</th>\n",
       "      <th>(20, 29]</th>\n",
       "      <th>(29, 39]</th>\n",
       "      <th>(39, 49]</th>\n",
       "      <th>(49, 59]</th>\n",
       "      <th>(59, 69]</th>\n",
       "      <th>(69, 79]</th>\n",
       "      <th>(79, 89]</th>\n",
       "      <th>...</th>\n",
       "      <th>(50000, 60000]</th>\n",
       "      <th>(60000, 70000]</th>\n",
       "      <th>(70000, 80000]</th>\n",
       "      <th>(80000, 90000]</th>\n",
       "      <th>(90000, 100000]</th>\n",
       "      <th>(100000, 110000]</th>\n",
       "      <th>(110000, 120000]</th>\n",
       "      <th>F</th>\n",
       "      <th>M</th>\n",
       "      <th>O</th>\n",
       "    </tr>\n",
       "  </thead>\n",
       "  <tbody>\n",
       "    <tr>\n",
       "      <th>1</th>\n",
       "      <td>20170715</td>\n",
       "      <td>0610b486422d4921ae7d2bf64640c50b</td>\n",
       "      <td>0</td>\n",
       "      <td>0</td>\n",
       "      <td>0</td>\n",
       "      <td>0</td>\n",
       "      <td>1</td>\n",
       "      <td>0</td>\n",
       "      <td>0</td>\n",
       "      <td>0</td>\n",
       "      <td>...</td>\n",
       "      <td>0</td>\n",
       "      <td>0</td>\n",
       "      <td>0</td>\n",
       "      <td>0</td>\n",
       "      <td>0</td>\n",
       "      <td>0</td>\n",
       "      <td>1</td>\n",
       "      <td>1</td>\n",
       "      <td>0</td>\n",
       "      <td>0</td>\n",
       "    </tr>\n",
       "    <tr>\n",
       "      <th>3</th>\n",
       "      <td>20170509</td>\n",
       "      <td>78afa995795e4d85b5d9ceeca43f5fef</td>\n",
       "      <td>0</td>\n",
       "      <td>0</td>\n",
       "      <td>0</td>\n",
       "      <td>0</td>\n",
       "      <td>0</td>\n",
       "      <td>0</td>\n",
       "      <td>1</td>\n",
       "      <td>0</td>\n",
       "      <td>...</td>\n",
       "      <td>0</td>\n",
       "      <td>0</td>\n",
       "      <td>0</td>\n",
       "      <td>0</td>\n",
       "      <td>1</td>\n",
       "      <td>0</td>\n",
       "      <td>0</td>\n",
       "      <td>1</td>\n",
       "      <td>0</td>\n",
       "      <td>0</td>\n",
       "    </tr>\n",
       "    <tr>\n",
       "      <th>5</th>\n",
       "      <td>20180426</td>\n",
       "      <td>e2127556f4f64592b11af22de27a7932</td>\n",
       "      <td>0</td>\n",
       "      <td>0</td>\n",
       "      <td>0</td>\n",
       "      <td>0</td>\n",
       "      <td>0</td>\n",
       "      <td>1</td>\n",
       "      <td>0</td>\n",
       "      <td>0</td>\n",
       "      <td>...</td>\n",
       "      <td>0</td>\n",
       "      <td>1</td>\n",
       "      <td>0</td>\n",
       "      <td>0</td>\n",
       "      <td>0</td>\n",
       "      <td>0</td>\n",
       "      <td>0</td>\n",
       "      <td>0</td>\n",
       "      <td>1</td>\n",
       "      <td>0</td>\n",
       "    </tr>\n",
       "    <tr>\n",
       "      <th>8</th>\n",
       "      <td>20180209</td>\n",
       "      <td>389bc3fa690240e798340f5a15918d5c</td>\n",
       "      <td>0</td>\n",
       "      <td>0</td>\n",
       "      <td>0</td>\n",
       "      <td>0</td>\n",
       "      <td>0</td>\n",
       "      <td>1</td>\n",
       "      <td>0</td>\n",
       "      <td>0</td>\n",
       "      <td>...</td>\n",
       "      <td>1</td>\n",
       "      <td>0</td>\n",
       "      <td>0</td>\n",
       "      <td>0</td>\n",
       "      <td>0</td>\n",
       "      <td>0</td>\n",
       "      <td>0</td>\n",
       "      <td>0</td>\n",
       "      <td>1</td>\n",
       "      <td>0</td>\n",
       "    </tr>\n",
       "    <tr>\n",
       "      <th>12</th>\n",
       "      <td>20171111</td>\n",
       "      <td>2eeac8d8feae4a8cad5a6af0499a211d</td>\n",
       "      <td>0</td>\n",
       "      <td>0</td>\n",
       "      <td>0</td>\n",
       "      <td>0</td>\n",
       "      <td>1</td>\n",
       "      <td>0</td>\n",
       "      <td>0</td>\n",
       "      <td>0</td>\n",
       "      <td>...</td>\n",
       "      <td>1</td>\n",
       "      <td>0</td>\n",
       "      <td>0</td>\n",
       "      <td>0</td>\n",
       "      <td>0</td>\n",
       "      <td>0</td>\n",
       "      <td>0</td>\n",
       "      <td>0</td>\n",
       "      <td>1</td>\n",
       "      <td>0</td>\n",
       "    </tr>\n",
       "  </tbody>\n",
       "</table>\n",
       "<p>5 rows × 24 columns</p>\n",
       "</div>"
      ],
      "text/plain": [
       "    became_member_on                                id  (18, 20]  (20, 29]  \\\n",
       "1           20170715  0610b486422d4921ae7d2bf64640c50b         0         0   \n",
       "3           20170509  78afa995795e4d85b5d9ceeca43f5fef         0         0   \n",
       "5           20180426  e2127556f4f64592b11af22de27a7932         0         0   \n",
       "8           20180209  389bc3fa690240e798340f5a15918d5c         0         0   \n",
       "12          20171111  2eeac8d8feae4a8cad5a6af0499a211d         0         0   \n",
       "\n",
       "    (29, 39]  (39, 49]  (49, 59]  (59, 69]  (69, 79]  (79, 89] ...  \\\n",
       "1          0         0         1         0         0         0 ...   \n",
       "3          0         0         0         0         1         0 ...   \n",
       "5          0         0         0         1         0         0 ...   \n",
       "8          0         0         0         1         0         0 ...   \n",
       "12         0         0         1         0         0         0 ...   \n",
       "\n",
       "    (50000, 60000]  (60000, 70000]  (70000, 80000]  (80000, 90000]  \\\n",
       "1                0               0               0               0   \n",
       "3                0               0               0               0   \n",
       "5                0               1               0               0   \n",
       "8                1               0               0               0   \n",
       "12               1               0               0               0   \n",
       "\n",
       "    (90000, 100000]  (100000, 110000]  (110000, 120000]  F  M  O  \n",
       "1                 0                 0                 1  1  0  0  \n",
       "3                 1                 0                 0  1  0  0  \n",
       "5                 0                 0                 0  0  1  0  \n",
       "8                 0                 0                 0  0  1  0  \n",
       "12                0                 0                 0  0  1  0  \n",
       "\n",
       "[5 rows x 24 columns]"
      ]
     },
     "execution_count": 28,
     "metadata": {},
     "output_type": "execute_result"
    }
   ],
   "source": [
    "cleaned_profile = clean_profile()\n",
    "cleaned_profile.head()"
   ]
  },
  {
   "cell_type": "code",
   "execution_count": 29,
   "metadata": {},
   "outputs": [
    {
     "data": {
      "image/png": "[encoded data removed]",
      "text/plain": [
       "<matplotlib.figure.Figure at 0x7f2293919ef0>"
      ]
     },
     "metadata": {},
     "output_type": "display_data"
    }
   ],
   "source": [
    "#Creating Subplots for distribution based on Age and Income for the Newly cleaned Profile data\n",
    "sns.set_style('darkgrid')\n",
    "fig,ax= plt.subplots(1,2,sharex=False, sharey=False,figsize=(12,5))\n",
    "fig.tight_layout()\n",
    "\n",
    "\n",
    "# AGE BASED\n",
    "cleaned_profile[cleaned_profile.columns[2:12]].sum().plot.bar(ax=ax[0],fontsize=10) \n",
    "ax[0].set_title(\"Cleaned-Distribution Age  Wise\", fontsize=15,color='blue')\n",
    "ax[0].set_xlabel(\"Age\", fontsize=10)\n",
    "ax[0].set_ylabel(\"Frequency\", fontsize=10)\n",
    "sns.despine(bottom=True, left=True)\n",
    "\n",
    "# INCOME BASED\n",
    "cleaned_profile[cleaned_profile.columns[12:21]].sum().plot.bar(ax=ax[1],fontsize=10) \n",
    "ax[1].set_title(\"Cleaned- Distribution Income Wise\", fontsize=15,color='blue')\n",
    "ax[1].set_xlabel(\"Income\", fontsize=10)\n",
    "ax[1].set_ylabel(\"Frequency\", fontsize=10)\n",
    "sns.despine(bottom=True, left=True)\n",
    "plt.show()"
   ]
  },
  {
   "cell_type": "code",
   "execution_count": 30,
   "metadata": {},
   "outputs": [],
   "source": [
    "def exploded_pie_plot(df, colName, pltTitle, pltColors=[], pltLabels=[], pltExplode=(), pltFigSize=[5, 5]):\n",
    "    \"\"\"\n",
    "    Creates an exploded pie plot with percentages of each categories for the column provided.\n",
    "    \n",
    "    Parameters\n",
    "    ----------\n",
    "    df: The dataframe with categories.\n",
    "    \n",
    "    colName: The name of the column containing the categories.\n",
    "    \n",
    "    pltTitle: The plot title.\n",
    "    \n",
    "    pltColors: The array of colors to use.\n",
    "    \n",
    "    pltLabels: The array of plot labels to use for each of the categories.\n",
    "    \n",
    "    pltExplode: The proportions to pass in for exploding the slices (e.g. 0.1, 0, 0 will explode the first category out by 10%)\n",
    "    \n",
    "    pltFigSize: The figure size of the plot (default is [5,5])\n",
    "    \n",
    "    Returns\n",
    "    -------\n",
    "    None\n",
    "    \"\"\"\n",
    "    plt.figure(figsize=[5, 5])\n",
    "    pltValues = df[colName].value_counts()\n",
    "    colors = pltColors\n",
    "    labels = pltLabels\n",
    "    explode = pltExplode # if (0.1, 0, 0) then explode 1st slice by 10% and dont explode 2nd and 3rd slizes\n",
    "    plt.pie(pltValues, colors=pltColors, labels=pltLabels, explode=pltExplode, autopct='%1.2f%%', counterclock=False, shadow=True)\n",
    "    plt.title(pltTitle)"
   ]
  },
  {
   "cell_type": "code",
   "execution_count": 31,
   "metadata": {},
   "outputs": [
    {
     "data": {
      "image/png": "[encoded data removed]",
      "text/plain": [
       "<matplotlib.figure.Figure at 0x7f2293900d68>"
      ]
     },
     "metadata": {},
     "output_type": "display_data"
    }
   ],
   "source": [
    "exploded_pie_plot(profile, 'gender', 'Gender distribution in profile', ['purple', 'darkorange', 'green'], ['Male', 'Female', 'Other'], (0.1, 0, 0))"
   ]
  },
  {
   "cell_type": "code",
   "execution_count": 32,
   "metadata": {},
   "outputs": [
    {
     "data": {
      "text/plain": [
       "<matplotlib.figure.Figure at 0x7f229390d6d8>"
      ]
     },
     "metadata": {},
     "output_type": "display_data"
    },
    {
     "data": {
      "image/png": "[encoded data removed]",
      "text/plain": [
       "<matplotlib.figure.Figure at 0x7f2293886908>"
      ]
     },
     "metadata": {},
     "output_type": "display_data"
    }
   ],
   "source": [
    "horizontal_bar_plot(profile, 'gender', \"Gender counts in profile\")"
   ]
  },
  {
   "cell_type": "markdown",
   "metadata": {},
   "source": [
    "### Portfolio"
   ]
  },
  {
   "cell_type": "code",
   "execution_count": 33,
   "metadata": {},
   "outputs": [],
   "source": [
    "def rename_cols(df, new_cols_name):\n",
    "    \"\"\"\n",
    "    Parameters\n",
    "    ----------\n",
    "    df: input dataframe for renaming columns\n",
    "    new_cols_name: define new column name for each column\n",
    "    \n",
    "    Returns\n",
    "    -------\n",
    "    df: output data frame with renamed column names\n",
    "       \n",
    "    \"\"\"\n",
    "\n",
    "    df= df.rename(columns = new_cols_name)\n",
    "    return df"
   ]
  },
  {
   "cell_type": "code",
   "execution_count": 34,
   "metadata": {},
   "outputs": [],
   "source": [
    "#rename columns\n",
    "new_cols_name = {'difficulty':'offer_difficulty' , 'id':'offer_id', 'duration':'offer_duration', 'reward': 'offer_reward'}\n",
    "cleaned_portfolio = rename_cols(portfolio, new_cols_name )"
   ]
  },
  {
   "cell_type": "code",
   "execution_count": 35,
   "metadata": {},
   "outputs": [
    {
     "data": {
      "text/html": [
       "<div>\n",
       "<style scoped>\n",
       "    .dataframe tbody tr th:only-of-type {\n",
       "        vertical-align: middle;\n",
       "    }\n",
       "\n",
       "    .dataframe tbody tr th {\n",
       "        vertical-align: top;\n",
       "    }\n",
       "\n",
       "    .dataframe thead th {\n",
       "        text-align: right;\n",
       "    }\n",
       "</style>\n",
       "<table border=\"1\" class=\"dataframe\">\n",
       "  <thead>\n",
       "    <tr style=\"text-align: right;\">\n",
       "      <th></th>\n",
       "      <th>channels</th>\n",
       "      <th>offer_difficulty</th>\n",
       "      <th>offer_duration</th>\n",
       "      <th>offer_id</th>\n",
       "      <th>offer_type</th>\n",
       "      <th>offer_reward</th>\n",
       "    </tr>\n",
       "  </thead>\n",
       "  <tbody>\n",
       "    <tr>\n",
       "      <th>0</th>\n",
       "      <td>[email, mobile, social]</td>\n",
       "      <td>10</td>\n",
       "      <td>7</td>\n",
       "      <td>ae264e3637204a6fb9bb56bc8210ddfd</td>\n",
       "      <td>bogo</td>\n",
       "      <td>10</td>\n",
       "    </tr>\n",
       "    <tr>\n",
       "      <th>1</th>\n",
       "      <td>[web, email, mobile, social]</td>\n",
       "      <td>10</td>\n",
       "      <td>5</td>\n",
       "      <td>4d5c57ea9a6940dd891ad53e9dbe8da0</td>\n",
       "      <td>bogo</td>\n",
       "      <td>10</td>\n",
       "    </tr>\n",
       "    <tr>\n",
       "      <th>2</th>\n",
       "      <td>[web, email, mobile]</td>\n",
       "      <td>0</td>\n",
       "      <td>4</td>\n",
       "      <td>3f207df678b143eea3cee63160fa8bed</td>\n",
       "      <td>informational</td>\n",
       "      <td>0</td>\n",
       "    </tr>\n",
       "    <tr>\n",
       "      <th>3</th>\n",
       "      <td>[web, email, mobile]</td>\n",
       "      <td>5</td>\n",
       "      <td>7</td>\n",
       "      <td>9b98b8c7a33c4b65b9aebfe6a799e6d9</td>\n",
       "      <td>bogo</td>\n",
       "      <td>5</td>\n",
       "    </tr>\n",
       "    <tr>\n",
       "      <th>4</th>\n",
       "      <td>[web, email]</td>\n",
       "      <td>20</td>\n",
       "      <td>10</td>\n",
       "      <td>0b1e1539f2cc45b7b9fa7c272da2e1d7</td>\n",
       "      <td>discount</td>\n",
       "      <td>5</td>\n",
       "    </tr>\n",
       "  </tbody>\n",
       "</table>\n",
       "</div>"
      ],
      "text/plain": [
       "                       channels  offer_difficulty  offer_duration  \\\n",
       "0       [email, mobile, social]                10               7   \n",
       "1  [web, email, mobile, social]                10               5   \n",
       "2          [web, email, mobile]                 0               4   \n",
       "3          [web, email, mobile]                 5               7   \n",
       "4                  [web, email]                20              10   \n",
       "\n",
       "                           offer_id     offer_type  offer_reward  \n",
       "0  ae264e3637204a6fb9bb56bc8210ddfd           bogo            10  \n",
       "1  4d5c57ea9a6940dd891ad53e9dbe8da0           bogo            10  \n",
       "2  3f207df678b143eea3cee63160fa8bed  informational             0  \n",
       "3  9b98b8c7a33c4b65b9aebfe6a799e6d9           bogo             5  \n",
       "4  0b1e1539f2cc45b7b9fa7c272da2e1d7       discount             5  "
      ]
     },
     "execution_count": 35,
     "metadata": {},
     "output_type": "execute_result"
    }
   ],
   "source": [
    "cleaned_portfolio.head()"
   ]
  },
  {
   "cell_type": "code",
   "execution_count": 36,
   "metadata": {},
   "outputs": [
    {
     "data": {
      "text/plain": [
       "Index(['channels', 'offer_difficulty', 'offer_duration', 'offer_id',\n",
       "       'offer_type', 'offer_reward'],\n",
       "      dtype='object')"
      ]
     },
     "execution_count": 36,
     "metadata": {},
     "output_type": "execute_result"
    }
   ],
   "source": [
    "cleaned_portfolio.columns"
   ]
  },
  {
   "cell_type": "markdown",
   "metadata": {},
   "source": [
    "### Transcript"
   ]
  },
  {
   "cell_type": "code",
   "execution_count": 37,
   "metadata": {},
   "outputs": [],
   "source": [
    "# Functions to create offer id and amount columns from the transcript table.\n",
    "def create_offer_id_column(val):\n",
    "    if list(val.keys())[0] in ['offer id', 'offer_id']:\n",
    "        return list(val.values())[0]\n",
    "    \n",
    "def create_amount_column(val):\n",
    "    if list(val.keys())[0] in [\"amount\"]:\n",
    "        return list(val.values())[0]\n",
    "    "
   ]
  },
  {
   "cell_type": "code",
   "execution_count": 38,
   "metadata": {},
   "outputs": [],
   "source": [
    "def clean_transcript(transcript = transcript):\n",
    "    \"\"\"\n",
    "    Cleans the Transcript table by setting one hot encoding values.\n",
    "    PARAMETERS:\n",
    "        transcript dataframe\n",
    "    \n",
    "    RETURNS:\n",
    "        Cleaned transcript  dataframe\n",
    "    \n",
    "    \"\"\"\n",
    "    #\n",
    "    transcript['offer_id'] = transcript.value.apply(create_offer_id_column)\n",
    "    transcript['amount'] = transcript.value.apply(create_amount_column)\n",
    "    \n",
    "    #  One-hot encode event column\n",
    "    event = pd.get_dummies(transcript['event'])\n",
    "    \n",
    "    # Concat one-hot and df\n",
    "    new_df = pd.concat([transcript, event], axis=1, sort=False)\n",
    "    \n",
    "    # Create and Drop Transaction\n",
    "    transaction = new_df[new_df[\"transaction\"]==1]\n",
    "    new_df = new_df.drop(transaction.index)\n",
    "    \n",
    "    # Drop\n",
    "    new_df = new_df.drop(columns = [\"event\",\"value\", \"amount\", \"transaction\"])\n",
    "    \n",
    "    return new_df"
   ]
  },
  {
   "cell_type": "code",
   "execution_count": 41,
   "metadata": {},
   "outputs": [
    {
     "data": {
      "text/html": [
       "<div>\n",
       "<style scoped>\n",
       "    .dataframe tbody tr th:only-of-type {\n",
       "        vertical-align: middle;\n",
       "    }\n",
       "\n",
       "    .dataframe tbody tr th {\n",
       "        vertical-align: top;\n",
       "    }\n",
       "\n",
       "    .dataframe thead th {\n",
       "        text-align: right;\n",
       "    }\n",
       "</style>\n",
       "<table border=\"1\" class=\"dataframe\">\n",
       "  <thead>\n",
       "    <tr style=\"text-align: right;\">\n",
       "      <th></th>\n",
       "      <th>person</th>\n",
       "      <th>time</th>\n",
       "      <th>offer_id</th>\n",
       "      <th>offer completed</th>\n",
       "      <th>offer received</th>\n",
       "      <th>offer viewed</th>\n",
       "    </tr>\n",
       "  </thead>\n",
       "  <tbody>\n",
       "    <tr>\n",
       "      <th>0</th>\n",
       "      <td>78afa995795e4d85b5d9ceeca43f5fef</td>\n",
       "      <td>0</td>\n",
       "      <td>9b98b8c7a33c4b65b9aebfe6a799e6d9</td>\n",
       "      <td>0</td>\n",
       "      <td>1</td>\n",
       "      <td>0</td>\n",
       "    </tr>\n",
       "    <tr>\n",
       "      <th>1</th>\n",
       "      <td>a03223e636434f42ac4c3df47e8bac43</td>\n",
       "      <td>0</td>\n",
       "      <td>0b1e1539f2cc45b7b9fa7c272da2e1d7</td>\n",
       "      <td>0</td>\n",
       "      <td>1</td>\n",
       "      <td>0</td>\n",
       "    </tr>\n",
       "    <tr>\n",
       "      <th>2</th>\n",
       "      <td>e2127556f4f64592b11af22de27a7932</td>\n",
       "      <td>0</td>\n",
       "      <td>2906b810c7d4411798c6938adc9daaa5</td>\n",
       "      <td>0</td>\n",
       "      <td>1</td>\n",
       "      <td>0</td>\n",
       "    </tr>\n",
       "    <tr>\n",
       "      <th>3</th>\n",
       "      <td>8ec6ce2a7e7949b1bf142def7d0e0586</td>\n",
       "      <td>0</td>\n",
       "      <td>fafdcd668e3743c1bb461111dcafc2a4</td>\n",
       "      <td>0</td>\n",
       "      <td>1</td>\n",
       "      <td>0</td>\n",
       "    </tr>\n",
       "    <tr>\n",
       "      <th>4</th>\n",
       "      <td>68617ca6246f4fbc85e91a2a49552598</td>\n",
       "      <td>0</td>\n",
       "      <td>4d5c57ea9a6940dd891ad53e9dbe8da0</td>\n",
       "      <td>0</td>\n",
       "      <td>1</td>\n",
       "      <td>0</td>\n",
       "    </tr>\n",
       "  </tbody>\n",
       "</table>\n",
       "</div>"
      ],
      "text/plain": [
       "                             person  time                          offer_id  \\\n",
       "0  78afa995795e4d85b5d9ceeca43f5fef     0  9b98b8c7a33c4b65b9aebfe6a799e6d9   \n",
       "1  a03223e636434f42ac4c3df47e8bac43     0  0b1e1539f2cc45b7b9fa7c272da2e1d7   \n",
       "2  e2127556f4f64592b11af22de27a7932     0  2906b810c7d4411798c6938adc9daaa5   \n",
       "3  8ec6ce2a7e7949b1bf142def7d0e0586     0  fafdcd668e3743c1bb461111dcafc2a4   \n",
       "4  68617ca6246f4fbc85e91a2a49552598     0  4d5c57ea9a6940dd891ad53e9dbe8da0   \n",
       "\n",
       "   offer completed  offer received  offer viewed  \n",
       "0                0               1             0  \n",
       "1                0               1             0  \n",
       "2                0               1             0  \n",
       "3                0               1             0  \n",
       "4                0               1             0  "
      ]
     },
     "execution_count": 41,
     "metadata": {},
     "output_type": "execute_result"
    }
   ],
   "source": [
    "cleaned_transcript = clean_transcript()\n",
    "cleaned_transcript.head()"
   ]
  },
  {
   "cell_type": "code",
   "execution_count": 42,
   "metadata": {},
   "outputs": [
    {
     "data": {
      "text/plain": [
       "(33579, 6)"
      ]
     },
     "execution_count": 42,
     "metadata": {},
     "output_type": "execute_result"
    }
   ],
   "source": [
    "cleaned_transcript[cleaned_transcript['offer completed']==1].shape"
   ]
  },
  {
   "cell_type": "markdown",
   "metadata": {},
   "source": [
    "# Extra Data Analysing / Preparing Data"
   ]
  },
  {
   "cell_type": "markdown",
   "metadata": {},
   "source": [
    "### Portfolio"
   ]
  },
  {
   "cell_type": "code",
   "execution_count": 43,
   "metadata": {},
   "outputs": [],
   "source": [
    "def rename_cols(df, new_cols_name):\n",
    "    \"\"\"\n",
    "    Parameters\n",
    "    ----------\n",
    "    df: input dataframe for renaming columns\n",
    "    new_cols_name: define new column name for each column\n",
    "    \n",
    "    Returns\n",
    "    -------\n",
    "    df: output data frame with renamed column names\n",
    "       \n",
    "    \"\"\"\n",
    "\n",
    "    df= df.rename(columns = new_cols_name)\n",
    "    return df"
   ]
  },
  {
   "cell_type": "code",
   "execution_count": 44,
   "metadata": {},
   "outputs": [],
   "source": [
    "#rename columns\n",
    "new_cols_name = {'difficulty':'offer_difficulty' , 'id':'offer_id', 'duration':'offer_duration', 'reward': 'offer_reward'}\n",
    "prepared_portfolio = rename_cols(portfolio, new_cols_name )"
   ]
  },
  {
   "cell_type": "code",
   "execution_count": 46,
   "metadata": {},
   "outputs": [
    {
     "data": {
      "text/html": [
       "<div>\n",
       "<style scoped>\n",
       "    .dataframe tbody tr th:only-of-type {\n",
       "        vertical-align: middle;\n",
       "    }\n",
       "\n",
       "    .dataframe tbody tr th {\n",
       "        vertical-align: top;\n",
       "    }\n",
       "\n",
       "    .dataframe thead th {\n",
       "        text-align: right;\n",
       "    }\n",
       "</style>\n",
       "<table border=\"1\" class=\"dataframe\">\n",
       "  <thead>\n",
       "    <tr style=\"text-align: right;\">\n",
       "      <th></th>\n",
       "      <th>channels</th>\n",
       "      <th>offer_difficulty</th>\n",
       "      <th>offer_duration</th>\n",
       "      <th>offer_id</th>\n",
       "      <th>offer_type</th>\n",
       "      <th>offer_reward</th>\n",
       "    </tr>\n",
       "  </thead>\n",
       "  <tbody>\n",
       "    <tr>\n",
       "      <th>0</th>\n",
       "      <td>[email, mobile, social]</td>\n",
       "      <td>10</td>\n",
       "      <td>7</td>\n",
       "      <td>ae264e3637204a6fb9bb56bc8210ddfd</td>\n",
       "      <td>bogo</td>\n",
       "      <td>10</td>\n",
       "    </tr>\n",
       "    <tr>\n",
       "      <th>1</th>\n",
       "      <td>[web, email, mobile, social]</td>\n",
       "      <td>10</td>\n",
       "      <td>5</td>\n",
       "      <td>4d5c57ea9a6940dd891ad53e9dbe8da0</td>\n",
       "      <td>bogo</td>\n",
       "      <td>10</td>\n",
       "    </tr>\n",
       "    <tr>\n",
       "      <th>2</th>\n",
       "      <td>[web, email, mobile]</td>\n",
       "      <td>0</td>\n",
       "      <td>4</td>\n",
       "      <td>3f207df678b143eea3cee63160fa8bed</td>\n",
       "      <td>informational</td>\n",
       "      <td>0</td>\n",
       "    </tr>\n",
       "    <tr>\n",
       "      <th>3</th>\n",
       "      <td>[web, email, mobile]</td>\n",
       "      <td>5</td>\n",
       "      <td>7</td>\n",
       "      <td>9b98b8c7a33c4b65b9aebfe6a799e6d9</td>\n",
       "      <td>bogo</td>\n",
       "      <td>5</td>\n",
       "    </tr>\n",
       "    <tr>\n",
       "      <th>4</th>\n",
       "      <td>[web, email]</td>\n",
       "      <td>20</td>\n",
       "      <td>10</td>\n",
       "      <td>0b1e1539f2cc45b7b9fa7c272da2e1d7</td>\n",
       "      <td>discount</td>\n",
       "      <td>5</td>\n",
       "    </tr>\n",
       "    <tr>\n",
       "      <th>5</th>\n",
       "      <td>[web, email, mobile, social]</td>\n",
       "      <td>7</td>\n",
       "      <td>7</td>\n",
       "      <td>2298d6c36e964ae4a3e7e9706d1fb8c2</td>\n",
       "      <td>discount</td>\n",
       "      <td>3</td>\n",
       "    </tr>\n",
       "    <tr>\n",
       "      <th>6</th>\n",
       "      <td>[web, email, mobile, social]</td>\n",
       "      <td>10</td>\n",
       "      <td>10</td>\n",
       "      <td>fafdcd668e3743c1bb461111dcafc2a4</td>\n",
       "      <td>discount</td>\n",
       "      <td>2</td>\n",
       "    </tr>\n",
       "  </tbody>\n",
       "</table>\n",
       "</div>"
      ],
      "text/plain": [
       "                       channels  offer_difficulty  offer_duration  \\\n",
       "0       [email, mobile, social]                10               7   \n",
       "1  [web, email, mobile, social]                10               5   \n",
       "2          [web, email, mobile]                 0               4   \n",
       "3          [web, email, mobile]                 5               7   \n",
       "4                  [web, email]                20              10   \n",
       "5  [web, email, mobile, social]                 7               7   \n",
       "6  [web, email, mobile, social]                10              10   \n",
       "\n",
       "                           offer_id     offer_type  offer_reward  \n",
       "0  ae264e3637204a6fb9bb56bc8210ddfd           bogo            10  \n",
       "1  4d5c57ea9a6940dd891ad53e9dbe8da0           bogo            10  \n",
       "2  3f207df678b143eea3cee63160fa8bed  informational             0  \n",
       "3  9b98b8c7a33c4b65b9aebfe6a799e6d9           bogo             5  \n",
       "4  0b1e1539f2cc45b7b9fa7c272da2e1d7       discount             5  \n",
       "5  2298d6c36e964ae4a3e7e9706d1fb8c2       discount             3  \n",
       "6  fafdcd668e3743c1bb461111dcafc2a4       discount             2  "
      ]
     },
     "execution_count": 46,
     "metadata": {},
     "output_type": "execute_result"
    }
   ],
   "source": [
    "prepared_portfolio.head(7)"
   ]
  },
  {
   "cell_type": "code",
   "execution_count": 47,
   "metadata": {},
   "outputs": [
    {
     "data": {
      "text/plain": [
       "Index(['channels', 'offer_difficulty', 'offer_duration', 'offer_id',\n",
       "       'offer_type', 'offer_reward'],\n",
       "      dtype='object')"
      ]
     },
     "execution_count": 47,
     "metadata": {},
     "output_type": "execute_result"
    }
   ],
   "source": [
    "prepared_portfolio.columns"
   ]
  },
  {
   "cell_type": "markdown",
   "metadata": {},
   "source": [
    "## Preparing the profile"
   ]
  },
  {
   "cell_type": "code",
   "execution_count": 48,
   "metadata": {},
   "outputs": [],
   "source": [
    "#rename columns\n",
    "cols_profile = {'id':'customer_id' , 'income':'customer_income'}\n",
    "prepared_profile = rename_cols(profile, cols_profile )"
   ]
  },
  {
   "cell_type": "code",
   "execution_count": 49,
   "metadata": {},
   "outputs": [
    {
     "data": {
      "text/plain": [
       "Index(['age', 'became_member_on', 'gender', 'customer_id', 'customer_income'], dtype='object')"
      ]
     },
     "execution_count": 49,
     "metadata": {},
     "output_type": "execute_result"
    }
   ],
   "source": [
    "prepared_profile.columns"
   ]
  },
  {
   "cell_type": "code",
   "execution_count": 50,
   "metadata": {},
   "outputs": [],
   "source": [
    "def preparing_profile(df):\n",
    "    \"\"\"\n",
    "    preparing the profile data frame as per tasks 2-4\n",
    "        \n",
    "    Parameters\n",
    "    ----------   \n",
    "    df: data frame\n",
    "    \n",
    "    Returns\n",
    "    -------\n",
    "    df: output data frame as per tasks\n",
    "    \"\"\"\n",
    "    \n",
    "    \n",
    "    #deal with null values\n",
    "    #replace 118 age values with NaN so to replace them easily with mean age\n",
    "    df.replace(118, np.nan , inplace=True)\n",
    "    #replace NaN age values with mean age\n",
    "    df['age'] = df['age'].fillna(df['age'].mean())\n",
    "    #replace missing income values with mean income\n",
    "    df['customer_income'] = df['customer_income'].fillna(df['customer_income'].mean())\n",
    "    #replace missing gender values with mode i.e. most frequent gender\n",
    "    mode = df['gender'].mode()[0]\n",
    "    df['gender'] = df['gender'].fillna(mode)\n",
    "    \n",
    "    #remove outliers\n",
    "    df = df[df['age'] <= 80]\n",
    "    df['age'] = df['age'].astype(int)\n",
    "    \n",
    "    #add Age_group column\n",
    "    df.loc[(df.age < 20) , 'Age_group'] = 'Under 20'\n",
    "    df.loc[(df.age >= 20) & (df.age <= 45) , 'Age_group'] = '20-45'\n",
    "    df.loc[(df.age >= 46) & (df.age <= 60) , 'Age_group'] = '46-60'\n",
    "    df.loc[(df.age >= 61) , 'Age_group'] = '61-80'\n",
    "    df.drop('age',axis=1,inplace=True)\n",
    "    return df"
   ]
  },
  {
   "cell_type": "code",
   "execution_count": 51,
   "metadata": {},
   "outputs": [
    {
     "name": "stderr",
     "output_type": "stream",
     "text": [
      "/opt/conda/lib/python3.6/site-packages/ipykernel_launcher.py:28: SettingWithCopyWarning: \n",
      "A value is trying to be set on a copy of a slice from a DataFrame.\n",
      "Try using .loc[row_indexer,col_indexer] = value instead\n",
      "\n",
      "See the caveats in the documentation: http://pandas.pydata.org/pandas-docs/stable/indexing.html#indexing-view-versus-copy\n",
      "/opt/conda/lib/python3.6/site-packages/pandas/core/indexing.py:362: SettingWithCopyWarning: \n",
      "A value is trying to be set on a copy of a slice from a DataFrame.\n",
      "Try using .loc[row_indexer,col_indexer] = value instead\n",
      "\n",
      "See the caveats in the documentation: http://pandas.pydata.org/pandas-docs/stable/indexing.html#indexing-view-versus-copy\n",
      "  self.obj[key] = _infer_fill_value(value)\n",
      "/opt/conda/lib/python3.6/site-packages/pandas/core/indexing.py:543: SettingWithCopyWarning: \n",
      "A value is trying to be set on a copy of a slice from a DataFrame.\n",
      "Try using .loc[row_indexer,col_indexer] = value instead\n",
      "\n",
      "See the caveats in the documentation: http://pandas.pydata.org/pandas-docs/stable/indexing.html#indexing-view-versus-copy\n",
      "  self.obj[item] = s\n",
      "/opt/conda/lib/python3.6/site-packages/pandas/core/frame.py:3697: SettingWithCopyWarning: \n",
      "A value is trying to be set on a copy of a slice from a DataFrame\n",
      "\n",
      "See the caveats in the documentation: http://pandas.pydata.org/pandas-docs/stable/indexing.html#indexing-view-versus-copy\n",
      "  errors=errors)\n"
     ]
    }
   ],
   "source": [
    "prepared_profile = preparing_profile(prepared_profile)"
   ]
  },
  {
   "cell_type": "code",
   "execution_count": 52,
   "metadata": {},
   "outputs": [
    {
     "data": {
      "text/html": [
       "<div>\n",
       "<style scoped>\n",
       "    .dataframe tbody tr th:only-of-type {\n",
       "        vertical-align: middle;\n",
       "    }\n",
       "\n",
       "    .dataframe tbody tr th {\n",
       "        vertical-align: top;\n",
       "    }\n",
       "\n",
       "    .dataframe thead th {\n",
       "        text-align: right;\n",
       "    }\n",
       "</style>\n",
       "<table border=\"1\" class=\"dataframe\">\n",
       "  <thead>\n",
       "    <tr style=\"text-align: right;\">\n",
       "      <th></th>\n",
       "      <th>became_member_on</th>\n",
       "      <th>gender</th>\n",
       "      <th>customer_id</th>\n",
       "      <th>customer_income</th>\n",
       "      <th>Age_group</th>\n",
       "    </tr>\n",
       "  </thead>\n",
       "  <tbody>\n",
       "    <tr>\n",
       "      <th>0</th>\n",
       "      <td>20170212</td>\n",
       "      <td>M</td>\n",
       "      <td>68be06ca386d4c31939f3a4f0e3dd783</td>\n",
       "      <td>65404.991568</td>\n",
       "      <td>46-60</td>\n",
       "    </tr>\n",
       "    <tr>\n",
       "      <th>1</th>\n",
       "      <td>20170715</td>\n",
       "      <td>F</td>\n",
       "      <td>0610b486422d4921ae7d2bf64640c50b</td>\n",
       "      <td>112000.000000</td>\n",
       "      <td>46-60</td>\n",
       "    </tr>\n",
       "    <tr>\n",
       "      <th>2</th>\n",
       "      <td>20180712</td>\n",
       "      <td>M</td>\n",
       "      <td>38fe809add3b4fcf9315a9694bb96ff5</td>\n",
       "      <td>65404.991568</td>\n",
       "      <td>46-60</td>\n",
       "    </tr>\n",
       "    <tr>\n",
       "      <th>3</th>\n",
       "      <td>20170509</td>\n",
       "      <td>F</td>\n",
       "      <td>78afa995795e4d85b5d9ceeca43f5fef</td>\n",
       "      <td>100000.000000</td>\n",
       "      <td>61-80</td>\n",
       "    </tr>\n",
       "    <tr>\n",
       "      <th>4</th>\n",
       "      <td>20170804</td>\n",
       "      <td>M</td>\n",
       "      <td>a03223e636434f42ac4c3df47e8bac43</td>\n",
       "      <td>65404.991568</td>\n",
       "      <td>46-60</td>\n",
       "    </tr>\n",
       "    <tr>\n",
       "      <th>5</th>\n",
       "      <td>20180426</td>\n",
       "      <td>M</td>\n",
       "      <td>e2127556f4f64592b11af22de27a7932</td>\n",
       "      <td>70000.000000</td>\n",
       "      <td>61-80</td>\n",
       "    </tr>\n",
       "    <tr>\n",
       "      <th>6</th>\n",
       "      <td>20170925</td>\n",
       "      <td>M</td>\n",
       "      <td>8ec6ce2a7e7949b1bf142def7d0e0586</td>\n",
       "      <td>65404.991568</td>\n",
       "      <td>46-60</td>\n",
       "    </tr>\n",
       "    <tr>\n",
       "      <th>7</th>\n",
       "      <td>20171002</td>\n",
       "      <td>M</td>\n",
       "      <td>68617ca6246f4fbc85e91a2a49552598</td>\n",
       "      <td>65404.991568</td>\n",
       "      <td>46-60</td>\n",
       "    </tr>\n",
       "    <tr>\n",
       "      <th>8</th>\n",
       "      <td>20180209</td>\n",
       "      <td>M</td>\n",
       "      <td>389bc3fa690240e798340f5a15918d5c</td>\n",
       "      <td>53000.000000</td>\n",
       "      <td>61-80</td>\n",
       "    </tr>\n",
       "    <tr>\n",
       "      <th>9</th>\n",
       "      <td>20161122</td>\n",
       "      <td>M</td>\n",
       "      <td>8974fc5686fe429db53ddde067b88302</td>\n",
       "      <td>65404.991568</td>\n",
       "      <td>46-60</td>\n",
       "    </tr>\n",
       "    <tr>\n",
       "      <th>10</th>\n",
       "      <td>20170824</td>\n",
       "      <td>M</td>\n",
       "      <td>c4863c7985cf408faee930f111475da3</td>\n",
       "      <td>65404.991568</td>\n",
       "      <td>46-60</td>\n",
       "    </tr>\n",
       "    <tr>\n",
       "      <th>11</th>\n",
       "      <td>20150919</td>\n",
       "      <td>M</td>\n",
       "      <td>148adfcaa27d485b82f323aaaad036bd</td>\n",
       "      <td>65404.991568</td>\n",
       "      <td>46-60</td>\n",
       "    </tr>\n",
       "    <tr>\n",
       "      <th>12</th>\n",
       "      <td>20171111</td>\n",
       "      <td>M</td>\n",
       "      <td>2eeac8d8feae4a8cad5a6af0499a211d</td>\n",
       "      <td>51000.000000</td>\n",
       "      <td>46-60</td>\n",
       "    </tr>\n",
       "    <tr>\n",
       "      <th>13</th>\n",
       "      <td>20170911</td>\n",
       "      <td>F</td>\n",
       "      <td>aa4862eba776480b8bb9c68455b8c2e1</td>\n",
       "      <td>57000.000000</td>\n",
       "      <td>61-80</td>\n",
       "    </tr>\n",
       "    <tr>\n",
       "      <th>14</th>\n",
       "      <td>20140213</td>\n",
       "      <td>M</td>\n",
       "      <td>e12aeaf2d47d42479ea1c4ac3d8286c6</td>\n",
       "      <td>46000.000000</td>\n",
       "      <td>20-45</td>\n",
       "    </tr>\n",
       "    <tr>\n",
       "      <th>15</th>\n",
       "      <td>20160211</td>\n",
       "      <td>F</td>\n",
       "      <td>31dda685af34476cad5bc968bdb01c53</td>\n",
       "      <td>71000.000000</td>\n",
       "      <td>61-80</td>\n",
       "    </tr>\n",
       "    <tr>\n",
       "      <th>16</th>\n",
       "      <td>20141113</td>\n",
       "      <td>M</td>\n",
       "      <td>62cf5e10845442329191fc246e7bcea3</td>\n",
       "      <td>52000.000000</td>\n",
       "      <td>46-60</td>\n",
       "    </tr>\n",
       "    <tr>\n",
       "      <th>17</th>\n",
       "      <td>20170801</td>\n",
       "      <td>M</td>\n",
       "      <td>744d603ef08c4f33af5a61c8c7628d1c</td>\n",
       "      <td>65404.991568</td>\n",
       "      <td>46-60</td>\n",
       "    </tr>\n",
       "    <tr>\n",
       "      <th>18</th>\n",
       "      <td>20171231</td>\n",
       "      <td>M</td>\n",
       "      <td>6445de3b47274c759400cd68131d91b4</td>\n",
       "      <td>42000.000000</td>\n",
       "      <td>46-60</td>\n",
       "    </tr>\n",
       "    <tr>\n",
       "      <th>19</th>\n",
       "      <td>20180501</td>\n",
       "      <td>F</td>\n",
       "      <td>a448667f336b42c9a66fc5ffd5d73772</td>\n",
       "      <td>40000.000000</td>\n",
       "      <td>61-80</td>\n",
       "    </tr>\n",
       "    <tr>\n",
       "      <th>20</th>\n",
       "      <td>20160504</td>\n",
       "      <td>F</td>\n",
       "      <td>440cf1fd7580490c971d8c651ed962af</td>\n",
       "      <td>71000.000000</td>\n",
       "      <td>20-45</td>\n",
       "    </tr>\n",
       "    <tr>\n",
       "      <th>21</th>\n",
       "      <td>20170909</td>\n",
       "      <td>M</td>\n",
       "      <td>4b0da7e80e5945209a1fdddfe813dbe0</td>\n",
       "      <td>100000.000000</td>\n",
       "      <td>61-80</td>\n",
       "    </tr>\n",
       "    <tr>\n",
       "      <th>22</th>\n",
       "      <td>20170616</td>\n",
       "      <td>F</td>\n",
       "      <td>c27e0d6ab72c455a8bb66d980963de60</td>\n",
       "      <td>71000.000000</td>\n",
       "      <td>61-80</td>\n",
       "    </tr>\n",
       "    <tr>\n",
       "      <th>23</th>\n",
       "      <td>20170907</td>\n",
       "      <td>M</td>\n",
       "      <td>2b826eba31074a059d63b0ae8f50b7d5</td>\n",
       "      <td>65404.991568</td>\n",
       "      <td>46-60</td>\n",
       "    </tr>\n",
       "    <tr>\n",
       "      <th>24</th>\n",
       "      <td>20130811</td>\n",
       "      <td>M</td>\n",
       "      <td>f806632c011441378d4646567f357a21</td>\n",
       "      <td>69000.000000</td>\n",
       "      <td>20-45</td>\n",
       "    </tr>\n",
       "    <tr>\n",
       "      <th>25</th>\n",
       "      <td>20180428</td>\n",
       "      <td>F</td>\n",
       "      <td>d058f73bf8674a26a95227db098147b1</td>\n",
       "      <td>88000.000000</td>\n",
       "      <td>46-60</td>\n",
       "    </tr>\n",
       "    <tr>\n",
       "      <th>26</th>\n",
       "      <td>20170330</td>\n",
       "      <td>M</td>\n",
       "      <td>65aba5c617294649aeb624da249e1ee5</td>\n",
       "      <td>65404.991568</td>\n",
       "      <td>46-60</td>\n",
       "    </tr>\n",
       "    <tr>\n",
       "      <th>27</th>\n",
       "      <td>20170926</td>\n",
       "      <td>F</td>\n",
       "      <td>c6c9884912c645429f3333f912b55f44</td>\n",
       "      <td>52000.000000</td>\n",
       "      <td>20-45</td>\n",
       "    </tr>\n",
       "    <tr>\n",
       "      <th>28</th>\n",
       "      <td>20170911</td>\n",
       "      <td>F</td>\n",
       "      <td>7429a044884842d6862f516c38b1156f</td>\n",
       "      <td>59000.000000</td>\n",
       "      <td>46-60</td>\n",
       "    </tr>\n",
       "    <tr>\n",
       "      <th>29</th>\n",
       "      <td>20150121</td>\n",
       "      <td>M</td>\n",
       "      <td>ebe7ef46ea6f4963a7dd49f501b26779</td>\n",
       "      <td>41000.000000</td>\n",
       "      <td>46-60</td>\n",
       "    </tr>\n",
       "    <tr>\n",
       "      <th>...</th>\n",
       "      <td>...</td>\n",
       "      <td>...</td>\n",
       "      <td>...</td>\n",
       "      <td>...</td>\n",
       "      <td>...</td>\n",
       "    </tr>\n",
       "    <tr>\n",
       "      <th>16968</th>\n",
       "      <td>20170725</td>\n",
       "      <td>M</td>\n",
       "      <td>2c6f50c1c07a444896e2a4e31d724f92</td>\n",
       "      <td>87000.000000</td>\n",
       "      <td>61-80</td>\n",
       "    </tr>\n",
       "    <tr>\n",
       "      <th>16969</th>\n",
       "      <td>20131212</td>\n",
       "      <td>M</td>\n",
       "      <td>f19d9482309d4e93ad74935f9e46e44c</td>\n",
       "      <td>65404.991568</td>\n",
       "      <td>46-60</td>\n",
       "    </tr>\n",
       "    <tr>\n",
       "      <th>16970</th>\n",
       "      <td>20151107</td>\n",
       "      <td>M</td>\n",
       "      <td>a2e6029e17b6466187a40b66e333a73e</td>\n",
       "      <td>94000.000000</td>\n",
       "      <td>61-80</td>\n",
       "    </tr>\n",
       "    <tr>\n",
       "      <th>16971</th>\n",
       "      <td>20180522</td>\n",
       "      <td>F</td>\n",
       "      <td>6e71b66784844d1ab8376ac8ab096d4b</td>\n",
       "      <td>75000.000000</td>\n",
       "      <td>46-60</td>\n",
       "    </tr>\n",
       "    <tr>\n",
       "      <th>16972</th>\n",
       "      <td>20170119</td>\n",
       "      <td>F</td>\n",
       "      <td>e2fd53ed790240c586b3188f23542cca</td>\n",
       "      <td>51000.000000</td>\n",
       "      <td>20-45</td>\n",
       "    </tr>\n",
       "    <tr>\n",
       "      <th>16973</th>\n",
       "      <td>20151012</td>\n",
       "      <td>M</td>\n",
       "      <td>08eb126ad33f447ca3ad076482445c05</td>\n",
       "      <td>57000.000000</td>\n",
       "      <td>20-45</td>\n",
       "    </tr>\n",
       "    <tr>\n",
       "      <th>16974</th>\n",
       "      <td>20160113</td>\n",
       "      <td>F</td>\n",
       "      <td>f88e91a11d8f405b9a47ad3741415b83</td>\n",
       "      <td>71000.000000</td>\n",
       "      <td>46-60</td>\n",
       "    </tr>\n",
       "    <tr>\n",
       "      <th>16975</th>\n",
       "      <td>20171231</td>\n",
       "      <td>F</td>\n",
       "      <td>1b4df4b48bf64727a4c445909aea1251</td>\n",
       "      <td>81000.000000</td>\n",
       "      <td>61-80</td>\n",
       "    </tr>\n",
       "    <tr>\n",
       "      <th>16976</th>\n",
       "      <td>20160921</td>\n",
       "      <td>F</td>\n",
       "      <td>122c0c2a3c2540848f8c3fdc37e97639</td>\n",
       "      <td>54000.000000</td>\n",
       "      <td>20-45</td>\n",
       "    </tr>\n",
       "    <tr>\n",
       "      <th>16977</th>\n",
       "      <td>20160609</td>\n",
       "      <td>M</td>\n",
       "      <td>eb7dd979f4644052a5c401a01f129132</td>\n",
       "      <td>65404.991568</td>\n",
       "      <td>46-60</td>\n",
       "    </tr>\n",
       "    <tr>\n",
       "      <th>16978</th>\n",
       "      <td>20170220</td>\n",
       "      <td>F</td>\n",
       "      <td>54bead4179c44b71acc4e8398181d183</td>\n",
       "      <td>58000.000000</td>\n",
       "      <td>20-45</td>\n",
       "    </tr>\n",
       "    <tr>\n",
       "      <th>16979</th>\n",
       "      <td>20130922</td>\n",
       "      <td>F</td>\n",
       "      <td>a00058cf10334a308c68e7631c529907</td>\n",
       "      <td>52000.000000</td>\n",
       "      <td>61-80</td>\n",
       "    </tr>\n",
       "    <tr>\n",
       "      <th>16980</th>\n",
       "      <td>20160901</td>\n",
       "      <td>M</td>\n",
       "      <td>5c686d09ca4d475a8f750f2ba07e0440</td>\n",
       "      <td>65404.991568</td>\n",
       "      <td>46-60</td>\n",
       "    </tr>\n",
       "    <tr>\n",
       "      <th>16982</th>\n",
       "      <td>20160415</td>\n",
       "      <td>M</td>\n",
       "      <td>d9ca82f550ac4ee58b6299cf1e5c824a</td>\n",
       "      <td>65404.991568</td>\n",
       "      <td>46-60</td>\n",
       "    </tr>\n",
       "    <tr>\n",
       "      <th>16983</th>\n",
       "      <td>20150404</td>\n",
       "      <td>F</td>\n",
       "      <td>ff737c250d2343729ade04c4f6eb1001</td>\n",
       "      <td>65000.000000</td>\n",
       "      <td>61-80</td>\n",
       "    </tr>\n",
       "    <tr>\n",
       "      <th>16984</th>\n",
       "      <td>20160716</td>\n",
       "      <td>F</td>\n",
       "      <td>392d23b2c958493197f647bedfe4f418</td>\n",
       "      <td>78000.000000</td>\n",
       "      <td>61-80</td>\n",
       "    </tr>\n",
       "    <tr>\n",
       "      <th>16985</th>\n",
       "      <td>20180619</td>\n",
       "      <td>M</td>\n",
       "      <td>97ee6e7a12fe4064b260fa48bdd0330f</td>\n",
       "      <td>55000.000000</td>\n",
       "      <td>20-45</td>\n",
       "    </tr>\n",
       "    <tr>\n",
       "      <th>16986</th>\n",
       "      <td>20170731</td>\n",
       "      <td>F</td>\n",
       "      <td>bf3069b178fe40d789dd027901bc406b</td>\n",
       "      <td>63000.000000</td>\n",
       "      <td>46-60</td>\n",
       "    </tr>\n",
       "    <tr>\n",
       "      <th>16987</th>\n",
       "      <td>20160709</td>\n",
       "      <td>M</td>\n",
       "      <td>76ddbd6576844afe811f1a3c0fbb5bec</td>\n",
       "      <td>40000.000000</td>\n",
       "      <td>46-60</td>\n",
       "    </tr>\n",
       "    <tr>\n",
       "      <th>16988</th>\n",
       "      <td>20180104</td>\n",
       "      <td>M</td>\n",
       "      <td>f653cf2d8bba42d0a53c2937ee2e5893</td>\n",
       "      <td>51000.000000</td>\n",
       "      <td>61-80</td>\n",
       "    </tr>\n",
       "    <tr>\n",
       "      <th>16989</th>\n",
       "      <td>20180305</td>\n",
       "      <td>M</td>\n",
       "      <td>ca45ee1883624304bac1e4c8a114f045</td>\n",
       "      <td>65404.991568</td>\n",
       "      <td>46-60</td>\n",
       "    </tr>\n",
       "    <tr>\n",
       "      <th>16990</th>\n",
       "      <td>20160310</td>\n",
       "      <td>F</td>\n",
       "      <td>79edb810789c447e8d212a324b44cc16</td>\n",
       "      <td>39000.000000</td>\n",
       "      <td>61-80</td>\n",
       "    </tr>\n",
       "    <tr>\n",
       "      <th>16991</th>\n",
       "      <td>20160116</td>\n",
       "      <td>M</td>\n",
       "      <td>a9a20fa8b5504360beb4e7c8712f8306</td>\n",
       "      <td>65404.991568</td>\n",
       "      <td>46-60</td>\n",
       "    </tr>\n",
       "    <tr>\n",
       "      <th>16992</th>\n",
       "      <td>20170917</td>\n",
       "      <td>F</td>\n",
       "      <td>400d0536e8794cbb855b0d882d67cbda</td>\n",
       "      <td>72000.000000</td>\n",
       "      <td>20-45</td>\n",
       "    </tr>\n",
       "    <tr>\n",
       "      <th>16993</th>\n",
       "      <td>20180505</td>\n",
       "      <td>M</td>\n",
       "      <td>cb23b66c56f64b109d673d5e56574529</td>\n",
       "      <td>113000.000000</td>\n",
       "      <td>46-60</td>\n",
       "    </tr>\n",
       "    <tr>\n",
       "      <th>16994</th>\n",
       "      <td>20151211</td>\n",
       "      <td>M</td>\n",
       "      <td>c02b10e8752c4d8e9b73f918558531f7</td>\n",
       "      <td>65404.991568</td>\n",
       "      <td>46-60</td>\n",
       "    </tr>\n",
       "    <tr>\n",
       "      <th>16995</th>\n",
       "      <td>20180604</td>\n",
       "      <td>F</td>\n",
       "      <td>6d5f3a774f3d4714ab0c092238f3a1d7</td>\n",
       "      <td>54000.000000</td>\n",
       "      <td>20-45</td>\n",
       "    </tr>\n",
       "    <tr>\n",
       "      <th>16996</th>\n",
       "      <td>20180713</td>\n",
       "      <td>M</td>\n",
       "      <td>2cb4f97358b841b9a9773a7aa05a9d77</td>\n",
       "      <td>72000.000000</td>\n",
       "      <td>61-80</td>\n",
       "    </tr>\n",
       "    <tr>\n",
       "      <th>16997</th>\n",
       "      <td>20170126</td>\n",
       "      <td>M</td>\n",
       "      <td>01d26f638c274aa0b965d24cefe3183f</td>\n",
       "      <td>73000.000000</td>\n",
       "      <td>46-60</td>\n",
       "    </tr>\n",
       "    <tr>\n",
       "      <th>16999</th>\n",
       "      <td>20170722</td>\n",
       "      <td>F</td>\n",
       "      <td>e4052622e5ba45a8b96b59aba68cf068</td>\n",
       "      <td>82000.000000</td>\n",
       "      <td>61-80</td>\n",
       "    </tr>\n",
       "  </tbody>\n",
       "</table>\n",
       "<p>16014 rows × 5 columns</p>\n",
       "</div>"
      ],
      "text/plain": [
       "       became_member_on gender                       customer_id  \\\n",
       "0              20170212      M  68be06ca386d4c31939f3a4f0e3dd783   \n",
       "1              20170715      F  0610b486422d4921ae7d2bf64640c50b   \n",
       "2              20180712      M  38fe809add3b4fcf9315a9694bb96ff5   \n",
       "3              20170509      F  78afa995795e4d85b5d9ceeca43f5fef   \n",
       "4              20170804      M  a03223e636434f42ac4c3df47e8bac43   \n",
       "5              20180426      M  e2127556f4f64592b11af22de27a7932   \n",
       "6              20170925      M  8ec6ce2a7e7949b1bf142def7d0e0586   \n",
       "7              20171002      M  68617ca6246f4fbc85e91a2a49552598   \n",
       "8              20180209      M  389bc3fa690240e798340f5a15918d5c   \n",
       "9              20161122      M  8974fc5686fe429db53ddde067b88302   \n",
       "10             20170824      M  c4863c7985cf408faee930f111475da3   \n",
       "11             20150919      M  148adfcaa27d485b82f323aaaad036bd   \n",
       "12             20171111      M  2eeac8d8feae4a8cad5a6af0499a211d   \n",
       "13             20170911      F  aa4862eba776480b8bb9c68455b8c2e1   \n",
       "14             20140213      M  e12aeaf2d47d42479ea1c4ac3d8286c6   \n",
       "15             20160211      F  31dda685af34476cad5bc968bdb01c53   \n",
       "16             20141113      M  62cf5e10845442329191fc246e7bcea3   \n",
       "17             20170801      M  744d603ef08c4f33af5a61c8c7628d1c   \n",
       "18             20171231      M  6445de3b47274c759400cd68131d91b4   \n",
       "19             20180501      F  a448667f336b42c9a66fc5ffd5d73772   \n",
       "20             20160504      F  440cf1fd7580490c971d8c651ed962af   \n",
       "21             20170909      M  4b0da7e80e5945209a1fdddfe813dbe0   \n",
       "22             20170616      F  c27e0d6ab72c455a8bb66d980963de60   \n",
       "23             20170907      M  2b826eba31074a059d63b0ae8f50b7d5   \n",
       "24             20130811      M  f806632c011441378d4646567f357a21   \n",
       "25             20180428      F  d058f73bf8674a26a95227db098147b1   \n",
       "26             20170330      M  65aba5c617294649aeb624da249e1ee5   \n",
       "27             20170926      F  c6c9884912c645429f3333f912b55f44   \n",
       "28             20170911      F  7429a044884842d6862f516c38b1156f   \n",
       "29             20150121      M  ebe7ef46ea6f4963a7dd49f501b26779   \n",
       "...                 ...    ...                               ...   \n",
       "16968          20170725      M  2c6f50c1c07a444896e2a4e31d724f92   \n",
       "16969          20131212      M  f19d9482309d4e93ad74935f9e46e44c   \n",
       "16970          20151107      M  a2e6029e17b6466187a40b66e333a73e   \n",
       "16971          20180522      F  6e71b66784844d1ab8376ac8ab096d4b   \n",
       "16972          20170119      F  e2fd53ed790240c586b3188f23542cca   \n",
       "16973          20151012      M  08eb126ad33f447ca3ad076482445c05   \n",
       "16974          20160113      F  f88e91a11d8f405b9a47ad3741415b83   \n",
       "16975          20171231      F  1b4df4b48bf64727a4c445909aea1251   \n",
       "16976          20160921      F  122c0c2a3c2540848f8c3fdc37e97639   \n",
       "16977          20160609      M  eb7dd979f4644052a5c401a01f129132   \n",
       "16978          20170220      F  54bead4179c44b71acc4e8398181d183   \n",
       "16979          20130922      F  a00058cf10334a308c68e7631c529907   \n",
       "16980          20160901      M  5c686d09ca4d475a8f750f2ba07e0440   \n",
       "16982          20160415      M  d9ca82f550ac4ee58b6299cf1e5c824a   \n",
       "16983          20150404      F  ff737c250d2343729ade04c4f6eb1001   \n",
       "16984          20160716      F  392d23b2c958493197f647bedfe4f418   \n",
       "16985          20180619      M  97ee6e7a12fe4064b260fa48bdd0330f   \n",
       "16986          20170731      F  bf3069b178fe40d789dd027901bc406b   \n",
       "16987          20160709      M  76ddbd6576844afe811f1a3c0fbb5bec   \n",
       "16988          20180104      M  f653cf2d8bba42d0a53c2937ee2e5893   \n",
       "16989          20180305      M  ca45ee1883624304bac1e4c8a114f045   \n",
       "16990          20160310      F  79edb810789c447e8d212a324b44cc16   \n",
       "16991          20160116      M  a9a20fa8b5504360beb4e7c8712f8306   \n",
       "16992          20170917      F  400d0536e8794cbb855b0d882d67cbda   \n",
       "16993          20180505      M  cb23b66c56f64b109d673d5e56574529   \n",
       "16994          20151211      M  c02b10e8752c4d8e9b73f918558531f7   \n",
       "16995          20180604      F  6d5f3a774f3d4714ab0c092238f3a1d7   \n",
       "16996          20180713      M  2cb4f97358b841b9a9773a7aa05a9d77   \n",
       "16997          20170126      M  01d26f638c274aa0b965d24cefe3183f   \n",
       "16999          20170722      F  e4052622e5ba45a8b96b59aba68cf068   \n",
       "\n",
       "       customer_income Age_group  \n",
       "0         65404.991568     46-60  \n",
       "1        112000.000000     46-60  \n",
       "2         65404.991568     46-60  \n",
       "3        100000.000000     61-80  \n",
       "4         65404.991568     46-60  \n",
       "5         70000.000000     61-80  \n",
       "6         65404.991568     46-60  \n",
       "7         65404.991568     46-60  \n",
       "8         53000.000000     61-80  \n",
       "9         65404.991568     46-60  \n",
       "10        65404.991568     46-60  \n",
       "11        65404.991568     46-60  \n",
       "12        51000.000000     46-60  \n",
       "13        57000.000000     61-80  \n",
       "14        46000.000000     20-45  \n",
       "15        71000.000000     61-80  \n",
       "16        52000.000000     46-60  \n",
       "17        65404.991568     46-60  \n",
       "18        42000.000000     46-60  \n",
       "19        40000.000000     61-80  \n",
       "20        71000.000000     20-45  \n",
       "21       100000.000000     61-80  \n",
       "22        71000.000000     61-80  \n",
       "23        65404.991568     46-60  \n",
       "24        69000.000000     20-45  \n",
       "25        88000.000000     46-60  \n",
       "26        65404.991568     46-60  \n",
       "27        52000.000000     20-45  \n",
       "28        59000.000000     46-60  \n",
       "29        41000.000000     46-60  \n",
       "...                ...       ...  \n",
       "16968     87000.000000     61-80  \n",
       "16969     65404.991568     46-60  \n",
       "16970     94000.000000     61-80  \n",
       "16971     75000.000000     46-60  \n",
       "16972     51000.000000     20-45  \n",
       "16973     57000.000000     20-45  \n",
       "16974     71000.000000     46-60  \n",
       "16975     81000.000000     61-80  \n",
       "16976     54000.000000     20-45  \n",
       "16977     65404.991568     46-60  \n",
       "16978     58000.000000     20-45  \n",
       "16979     52000.000000     61-80  \n",
       "16980     65404.991568     46-60  \n",
       "16982     65404.991568     46-60  \n",
       "16983     65000.000000     61-80  \n",
       "16984     78000.000000     61-80  \n",
       "16985     55000.000000     20-45  \n",
       "16986     63000.000000     46-60  \n",
       "16987     40000.000000     46-60  \n",
       "16988     51000.000000     61-80  \n",
       "16989     65404.991568     46-60  \n",
       "16990     39000.000000     61-80  \n",
       "16991     65404.991568     46-60  \n",
       "16992     72000.000000     20-45  \n",
       "16993    113000.000000     46-60  \n",
       "16994     65404.991568     46-60  \n",
       "16995     54000.000000     20-45  \n",
       "16996     72000.000000     61-80  \n",
       "16997     73000.000000     46-60  \n",
       "16999     82000.000000     61-80  \n",
       "\n",
       "[16014 rows x 5 columns]"
      ]
     },
     "execution_count": 52,
     "metadata": {},
     "output_type": "execute_result"
    }
   ],
   "source": [
    "prepared_profile"
   ]
  },
  {
   "cell_type": "code",
   "execution_count": 53,
   "metadata": {},
   "outputs": [
    {
     "name": "stdout",
     "output_type": "stream",
     "text": [
      "<class 'pandas.core.frame.DataFrame'>\n",
      "Int64Index: 16014 entries, 0 to 16999\n",
      "Data columns (total 5 columns):\n",
      "became_member_on    16014 non-null int64\n",
      "gender              16014 non-null object\n",
      "customer_id         16014 non-null object\n",
      "customer_income     16014 non-null float64\n",
      "Age_group           16014 non-null object\n",
      "dtypes: float64(1), int64(1), object(3)\n",
      "memory usage: 750.7+ KB\n"
     ]
    }
   ],
   "source": [
    "prepared_profile.info()"
   ]
  },
  {
   "cell_type": "code",
   "execution_count": 54,
   "metadata": {},
   "outputs": [
    {
     "data": {
      "text/plain": [
       "became_member_on    0\n",
       "gender              0\n",
       "customer_id         0\n",
       "customer_income     0\n",
       "Age_group           0\n",
       "dtype: int64"
      ]
     },
     "execution_count": 54,
     "metadata": {},
     "output_type": "execute_result"
    }
   ],
   "source": [
    "#check for missing values \n",
    "prepared_profile.isnull().sum()"
   ]
  },
  {
   "cell_type": "code",
   "execution_count": 55,
   "metadata": {},
   "outputs": [
    {
     "data": {
      "text/plain": [
       "(16014, 5)"
      ]
     },
     "execution_count": 55,
     "metadata": {},
     "output_type": "execute_result"
    }
   ],
   "source": [
    "prepared_profile.shape"
   ]
  },
  {
   "cell_type": "markdown",
   "metadata": {},
   "source": [
    "we don't have any null values as cleaning profile data frame phase is complete now."
   ]
  },
  {
   "cell_type": "markdown",
   "metadata": {},
   "source": [
    "## Preparing Transcript"
   ]
  },
  {
   "cell_type": "code",
   "execution_count": 56,
   "metadata": {},
   "outputs": [],
   "source": [
    "#rename columns\n",
    "transcript_cols = {'person':'customer_id'}\n",
    "prepared_transcript = rename_cols(transcript, transcript_cols)"
   ]
  },
  {
   "cell_type": "code",
   "execution_count": 57,
   "metadata": {},
   "outputs": [
    {
     "data": {
      "text/plain": [
       "Index(['event', 'customer_id', 'time', 'value', 'offer_id', 'amount'], dtype='object')"
      ]
     },
     "execution_count": 57,
     "metadata": {},
     "output_type": "execute_result"
    }
   ],
   "source": [
    "prepared_transcript.columns"
   ]
  },
  {
   "cell_type": "code",
   "execution_count": 58,
   "metadata": {},
   "outputs": [],
   "source": [
    "def preparing_transcript(df):\n",
    "    \"\"\"\n",
    "    preparing the transcript data frame as per task 2.\n",
    "    \n",
    "    Parameters\n",
    "    ----------   \n",
    "    df: data frame\n",
    "    \n",
    "    Returns\n",
    "    -------\n",
    "    df: output data frame as per task\n",
    "    \n",
    "    New column names given for expanded keys\n",
    "    -------\n",
    "    money_gained : money gained from \"offer completed\"\n",
    "    money_spent : money spent in \"transaction\"\n",
    "    offer_id \n",
    "    \"\"\"\n",
    "    \n",
    "    #expand the dictionary to coulmns \n",
    "    df['offer_id'] = df['value'].apply(lambda x: x.get('offer_id'))\n",
    "    df['offer id'] = df['value'].apply(lambda x: x.get('offer id'))\n",
    "    df['money_gained'] = df['value'].apply(lambda x: x.get('reward'))\n",
    "    df['money_spent'] = df['value'].apply(lambda x: x.get('amount'))\n",
    "    \n",
    "    #move 'offer id' values into 'offer_id'\n",
    "    df['offer_id'] = df.apply(lambda x : x['offer id'] if x['offer_id'] == None else x['offer_id'], axis=1)\n",
    "    #drop 'offer id' column \n",
    "    df.drop(['offer id' , 'value'] , axis=1, inplace=True)\n",
    "    #replace nan\n",
    "    df.fillna(0 , inplace=True)\n",
    "    \n",
    "    return df"
   ]
  },
  {
   "cell_type": "code",
   "execution_count": 59,
   "metadata": {},
   "outputs": [],
   "source": [
    "prepared_transcript = preparing_transcript(prepared_transcript)"
   ]
  },
  {
   "cell_type": "code",
   "execution_count": 60,
   "metadata": {},
   "outputs": [
    {
     "data": {
      "text/html": [
       "<div>\n",
       "<style scoped>\n",
       "    .dataframe tbody tr th:only-of-type {\n",
       "        vertical-align: middle;\n",
       "    }\n",
       "\n",
       "    .dataframe tbody tr th {\n",
       "        vertical-align: top;\n",
       "    }\n",
       "\n",
       "    .dataframe thead th {\n",
       "        text-align: right;\n",
       "    }\n",
       "</style>\n",
       "<table border=\"1\" class=\"dataframe\">\n",
       "  <thead>\n",
       "    <tr style=\"text-align: right;\">\n",
       "      <th></th>\n",
       "      <th>event</th>\n",
       "      <th>customer_id</th>\n",
       "      <th>time</th>\n",
       "      <th>offer_id</th>\n",
       "      <th>amount</th>\n",
       "      <th>money_gained</th>\n",
       "      <th>money_spent</th>\n",
       "    </tr>\n",
       "  </thead>\n",
       "  <tbody>\n",
       "    <tr>\n",
       "      <th>0</th>\n",
       "      <td>offer received</td>\n",
       "      <td>78afa995795e4d85b5d9ceeca43f5fef</td>\n",
       "      <td>0</td>\n",
       "      <td>9b98b8c7a33c4b65b9aebfe6a799e6d9</td>\n",
       "      <td>0.0</td>\n",
       "      <td>0.0</td>\n",
       "      <td>0.0</td>\n",
       "    </tr>\n",
       "    <tr>\n",
       "      <th>1</th>\n",
       "      <td>offer received</td>\n",
       "      <td>a03223e636434f42ac4c3df47e8bac43</td>\n",
       "      <td>0</td>\n",
       "      <td>0b1e1539f2cc45b7b9fa7c272da2e1d7</td>\n",
       "      <td>0.0</td>\n",
       "      <td>0.0</td>\n",
       "      <td>0.0</td>\n",
       "    </tr>\n",
       "    <tr>\n",
       "      <th>2</th>\n",
       "      <td>offer received</td>\n",
       "      <td>e2127556f4f64592b11af22de27a7932</td>\n",
       "      <td>0</td>\n",
       "      <td>2906b810c7d4411798c6938adc9daaa5</td>\n",
       "      <td>0.0</td>\n",
       "      <td>0.0</td>\n",
       "      <td>0.0</td>\n",
       "    </tr>\n",
       "    <tr>\n",
       "      <th>3</th>\n",
       "      <td>offer received</td>\n",
       "      <td>8ec6ce2a7e7949b1bf142def7d0e0586</td>\n",
       "      <td>0</td>\n",
       "      <td>fafdcd668e3743c1bb461111dcafc2a4</td>\n",
       "      <td>0.0</td>\n",
       "      <td>0.0</td>\n",
       "      <td>0.0</td>\n",
       "    </tr>\n",
       "    <tr>\n",
       "      <th>4</th>\n",
       "      <td>offer received</td>\n",
       "      <td>68617ca6246f4fbc85e91a2a49552598</td>\n",
       "      <td>0</td>\n",
       "      <td>4d5c57ea9a6940dd891ad53e9dbe8da0</td>\n",
       "      <td>0.0</td>\n",
       "      <td>0.0</td>\n",
       "      <td>0.0</td>\n",
       "    </tr>\n",
       "    <tr>\n",
       "      <th>5</th>\n",
       "      <td>offer received</td>\n",
       "      <td>389bc3fa690240e798340f5a15918d5c</td>\n",
       "      <td>0</td>\n",
       "      <td>f19421c1d4aa40978ebb69ca19b0e20d</td>\n",
       "      <td>0.0</td>\n",
       "      <td>0.0</td>\n",
       "      <td>0.0</td>\n",
       "    </tr>\n",
       "    <tr>\n",
       "      <th>6</th>\n",
       "      <td>offer received</td>\n",
       "      <td>c4863c7985cf408faee930f111475da3</td>\n",
       "      <td>0</td>\n",
       "      <td>2298d6c36e964ae4a3e7e9706d1fb8c2</td>\n",
       "      <td>0.0</td>\n",
       "      <td>0.0</td>\n",
       "      <td>0.0</td>\n",
       "    </tr>\n",
       "  </tbody>\n",
       "</table>\n",
       "</div>"
      ],
      "text/plain": [
       "            event                       customer_id  time  \\\n",
       "0  offer received  78afa995795e4d85b5d9ceeca43f5fef     0   \n",
       "1  offer received  a03223e636434f42ac4c3df47e8bac43     0   \n",
       "2  offer received  e2127556f4f64592b11af22de27a7932     0   \n",
       "3  offer received  8ec6ce2a7e7949b1bf142def7d0e0586     0   \n",
       "4  offer received  68617ca6246f4fbc85e91a2a49552598     0   \n",
       "5  offer received  389bc3fa690240e798340f5a15918d5c     0   \n",
       "6  offer received  c4863c7985cf408faee930f111475da3     0   \n",
       "\n",
       "                           offer_id  amount  money_gained  money_spent  \n",
       "0  9b98b8c7a33c4b65b9aebfe6a799e6d9     0.0           0.0          0.0  \n",
       "1  0b1e1539f2cc45b7b9fa7c272da2e1d7     0.0           0.0          0.0  \n",
       "2  2906b810c7d4411798c6938adc9daaa5     0.0           0.0          0.0  \n",
       "3  fafdcd668e3743c1bb461111dcafc2a4     0.0           0.0          0.0  \n",
       "4  4d5c57ea9a6940dd891ad53e9dbe8da0     0.0           0.0          0.0  \n",
       "5  f19421c1d4aa40978ebb69ca19b0e20d     0.0           0.0          0.0  \n",
       "6  2298d6c36e964ae4a3e7e9706d1fb8c2     0.0           0.0          0.0  "
      ]
     },
     "execution_count": 60,
     "metadata": {},
     "output_type": "execute_result"
    }
   ],
   "source": [
    "prepared_transcript.head(7)"
   ]
  },
  {
   "cell_type": "code",
   "execution_count": 61,
   "metadata": {},
   "outputs": [
    {
     "name": "stdout",
     "output_type": "stream",
     "text": [
      "<class 'pandas.core.frame.DataFrame'>\n",
      "RangeIndex: 306534 entries, 0 to 306533\n",
      "Data columns (total 7 columns):\n",
      "event           306534 non-null object\n",
      "customer_id     306534 non-null object\n",
      "time            306534 non-null int64\n",
      "offer_id        306534 non-null object\n",
      "amount          306534 non-null float64\n",
      "money_gained    306534 non-null float64\n",
      "money_spent     306534 non-null float64\n",
      "dtypes: float64(3), int64(1), object(3)\n",
      "memory usage: 16.4+ MB\n"
     ]
    }
   ],
   "source": [
    "prepared_transcript.info()"
   ]
  },
  {
   "cell_type": "markdown",
   "metadata": {},
   "source": [
    "# Extra Data Analysis and Merging The Dataframes"
   ]
  },
  {
   "cell_type": "code",
   "execution_count": 65,
   "metadata": {},
   "outputs": [],
   "source": [
    "def merge_data(portfolio,profile,transcript):\n",
    "    \"\"\"\n",
    "    Merge cleaned data frames for EDA\n",
    "       \n",
    "    Parameters\n",
    "    ---------- \n",
    "    portfolio : cleaned portfolio data frame\n",
    "    profile : cleaned profile data frame\n",
    "    transcript : cleaned transcript data frame\n",
    "      \n",
    "    Returns\n",
    "    -------\n",
    "    merged_df: merged data frame\n",
    "    \n",
    "    \"\"\"\n",
    "    \n",
    "    merged_df = pd.merge(portfolio, transcript, on='offer_id')\n",
    "    merged_df = pd.merge(merged_df, profile, on='customer_id')\n",
    "    \n",
    "    return merged_df"
   ]
  },
  {
   "cell_type": "code",
   "execution_count": 66,
   "metadata": {},
   "outputs": [],
   "source": [
    "merged_df = merge_data(prepared_portfolio, prepared_profile, prepared_transcript)"
   ]
  },
  {
   "cell_type": "code",
   "execution_count": 67,
   "metadata": {},
   "outputs": [
    {
     "data": {
      "text/html": [
       "<div>\n",
       "<style scoped>\n",
       "    .dataframe tbody tr th:only-of-type {\n",
       "        vertical-align: middle;\n",
       "    }\n",
       "\n",
       "    .dataframe tbody tr th {\n",
       "        vertical-align: top;\n",
       "    }\n",
       "\n",
       "    .dataframe thead th {\n",
       "        text-align: right;\n",
       "    }\n",
       "</style>\n",
       "<table border=\"1\" class=\"dataframe\">\n",
       "  <thead>\n",
       "    <tr style=\"text-align: right;\">\n",
       "      <th></th>\n",
       "      <th>channels</th>\n",
       "      <th>offer_difficulty</th>\n",
       "      <th>offer_duration</th>\n",
       "      <th>offer_id</th>\n",
       "      <th>offer_type</th>\n",
       "      <th>offer_reward</th>\n",
       "      <th>event</th>\n",
       "      <th>customer_id</th>\n",
       "      <th>time</th>\n",
       "      <th>amount</th>\n",
       "      <th>money_gained</th>\n",
       "      <th>money_spent</th>\n",
       "      <th>became_member_on</th>\n",
       "      <th>gender</th>\n",
       "      <th>customer_income</th>\n",
       "      <th>Age_group</th>\n",
       "    </tr>\n",
       "  </thead>\n",
       "  <tbody>\n",
       "    <tr>\n",
       "      <th>0</th>\n",
       "      <td>[email, mobile, social]</td>\n",
       "      <td>10</td>\n",
       "      <td>7</td>\n",
       "      <td>ae264e3637204a6fb9bb56bc8210ddfd</td>\n",
       "      <td>bogo</td>\n",
       "      <td>10</td>\n",
       "      <td>offer received</td>\n",
       "      <td>4b0da7e80e5945209a1fdddfe813dbe0</td>\n",
       "      <td>0</td>\n",
       "      <td>0.0</td>\n",
       "      <td>0.0</td>\n",
       "      <td>0.0</td>\n",
       "      <td>20170909</td>\n",
       "      <td>M</td>\n",
       "      <td>100000.0</td>\n",
       "      <td>61-80</td>\n",
       "    </tr>\n",
       "    <tr>\n",
       "      <th>1</th>\n",
       "      <td>[email, mobile, social]</td>\n",
       "      <td>10</td>\n",
       "      <td>7</td>\n",
       "      <td>ae264e3637204a6fb9bb56bc8210ddfd</td>\n",
       "      <td>bogo</td>\n",
       "      <td>10</td>\n",
       "      <td>offer viewed</td>\n",
       "      <td>4b0da7e80e5945209a1fdddfe813dbe0</td>\n",
       "      <td>102</td>\n",
       "      <td>0.0</td>\n",
       "      <td>0.0</td>\n",
       "      <td>0.0</td>\n",
       "      <td>20170909</td>\n",
       "      <td>M</td>\n",
       "      <td>100000.0</td>\n",
       "      <td>61-80</td>\n",
       "    </tr>\n",
       "    <tr>\n",
       "      <th>2</th>\n",
       "      <td>[email, mobile, social]</td>\n",
       "      <td>10</td>\n",
       "      <td>7</td>\n",
       "      <td>ae264e3637204a6fb9bb56bc8210ddfd</td>\n",
       "      <td>bogo</td>\n",
       "      <td>10</td>\n",
       "      <td>offer received</td>\n",
       "      <td>4b0da7e80e5945209a1fdddfe813dbe0</td>\n",
       "      <td>504</td>\n",
       "      <td>0.0</td>\n",
       "      <td>0.0</td>\n",
       "      <td>0.0</td>\n",
       "      <td>20170909</td>\n",
       "      <td>M</td>\n",
       "      <td>100000.0</td>\n",
       "      <td>61-80</td>\n",
       "    </tr>\n",
       "    <tr>\n",
       "      <th>3</th>\n",
       "      <td>[email, mobile, social]</td>\n",
       "      <td>10</td>\n",
       "      <td>7</td>\n",
       "      <td>ae264e3637204a6fb9bb56bc8210ddfd</td>\n",
       "      <td>bogo</td>\n",
       "      <td>10</td>\n",
       "      <td>offer viewed</td>\n",
       "      <td>4b0da7e80e5945209a1fdddfe813dbe0</td>\n",
       "      <td>510</td>\n",
       "      <td>0.0</td>\n",
       "      <td>0.0</td>\n",
       "      <td>0.0</td>\n",
       "      <td>20170909</td>\n",
       "      <td>M</td>\n",
       "      <td>100000.0</td>\n",
       "      <td>61-80</td>\n",
       "    </tr>\n",
       "    <tr>\n",
       "      <th>4</th>\n",
       "      <td>[email, mobile, social]</td>\n",
       "      <td>10</td>\n",
       "      <td>7</td>\n",
       "      <td>ae264e3637204a6fb9bb56bc8210ddfd</td>\n",
       "      <td>bogo</td>\n",
       "      <td>10</td>\n",
       "      <td>offer completed</td>\n",
       "      <td>4b0da7e80e5945209a1fdddfe813dbe0</td>\n",
       "      <td>510</td>\n",
       "      <td>0.0</td>\n",
       "      <td>10.0</td>\n",
       "      <td>0.0</td>\n",
       "      <td>20170909</td>\n",
       "      <td>M</td>\n",
       "      <td>100000.0</td>\n",
       "      <td>61-80</td>\n",
       "    </tr>\n",
       "    <tr>\n",
       "      <th>5</th>\n",
       "      <td>[web, email, mobile]</td>\n",
       "      <td>0</td>\n",
       "      <td>4</td>\n",
       "      <td>3f207df678b143eea3cee63160fa8bed</td>\n",
       "      <td>informational</td>\n",
       "      <td>0</td>\n",
       "      <td>offer received</td>\n",
       "      <td>4b0da7e80e5945209a1fdddfe813dbe0</td>\n",
       "      <td>408</td>\n",
       "      <td>0.0</td>\n",
       "      <td>0.0</td>\n",
       "      <td>0.0</td>\n",
       "      <td>20170909</td>\n",
       "      <td>M</td>\n",
       "      <td>100000.0</td>\n",
       "      <td>61-80</td>\n",
       "    </tr>\n",
       "    <tr>\n",
       "      <th>6</th>\n",
       "      <td>[web, email, mobile]</td>\n",
       "      <td>0</td>\n",
       "      <td>4</td>\n",
       "      <td>3f207df678b143eea3cee63160fa8bed</td>\n",
       "      <td>informational</td>\n",
       "      <td>0</td>\n",
       "      <td>offer viewed</td>\n",
       "      <td>4b0da7e80e5945209a1fdddfe813dbe0</td>\n",
       "      <td>468</td>\n",
       "      <td>0.0</td>\n",
       "      <td>0.0</td>\n",
       "      <td>0.0</td>\n",
       "      <td>20170909</td>\n",
       "      <td>M</td>\n",
       "      <td>100000.0</td>\n",
       "      <td>61-80</td>\n",
       "    </tr>\n",
       "  </tbody>\n",
       "</table>\n",
       "</div>"
      ],
      "text/plain": [
       "                  channels  offer_difficulty  offer_duration  \\\n",
       "0  [email, mobile, social]                10               7   \n",
       "1  [email, mobile, social]                10               7   \n",
       "2  [email, mobile, social]                10               7   \n",
       "3  [email, mobile, social]                10               7   \n",
       "4  [email, mobile, social]                10               7   \n",
       "5     [web, email, mobile]                 0               4   \n",
       "6     [web, email, mobile]                 0               4   \n",
       "\n",
       "                           offer_id     offer_type  offer_reward  \\\n",
       "0  ae264e3637204a6fb9bb56bc8210ddfd           bogo            10   \n",
       "1  ae264e3637204a6fb9bb56bc8210ddfd           bogo            10   \n",
       "2  ae264e3637204a6fb9bb56bc8210ddfd           bogo            10   \n",
       "3  ae264e3637204a6fb9bb56bc8210ddfd           bogo            10   \n",
       "4  ae264e3637204a6fb9bb56bc8210ddfd           bogo            10   \n",
       "5  3f207df678b143eea3cee63160fa8bed  informational             0   \n",
       "6  3f207df678b143eea3cee63160fa8bed  informational             0   \n",
       "\n",
       "             event                       customer_id  time  amount  \\\n",
       "0   offer received  4b0da7e80e5945209a1fdddfe813dbe0     0     0.0   \n",
       "1     offer viewed  4b0da7e80e5945209a1fdddfe813dbe0   102     0.0   \n",
       "2   offer received  4b0da7e80e5945209a1fdddfe813dbe0   504     0.0   \n",
       "3     offer viewed  4b0da7e80e5945209a1fdddfe813dbe0   510     0.0   \n",
       "4  offer completed  4b0da7e80e5945209a1fdddfe813dbe0   510     0.0   \n",
       "5   offer received  4b0da7e80e5945209a1fdddfe813dbe0   408     0.0   \n",
       "6     offer viewed  4b0da7e80e5945209a1fdddfe813dbe0   468     0.0   \n",
       "\n",
       "   money_gained  money_spent  became_member_on gender  customer_income  \\\n",
       "0           0.0          0.0          20170909      M         100000.0   \n",
       "1           0.0          0.0          20170909      M         100000.0   \n",
       "2           0.0          0.0          20170909      M         100000.0   \n",
       "3           0.0          0.0          20170909      M         100000.0   \n",
       "4          10.0          0.0          20170909      M         100000.0   \n",
       "5           0.0          0.0          20170909      M         100000.0   \n",
       "6           0.0          0.0          20170909      M         100000.0   \n",
       "\n",
       "  Age_group  \n",
       "0     61-80  \n",
       "1     61-80  \n",
       "2     61-80  \n",
       "3     61-80  \n",
       "4     61-80  \n",
       "5     61-80  \n",
       "6     61-80  "
      ]
     },
     "execution_count": 67,
     "metadata": {},
     "output_type": "execute_result"
    }
   ],
   "source": [
    "merged_df.head(7)"
   ]
  },
  {
   "cell_type": "markdown",
   "metadata": {},
   "source": [
    "There are few questions, we'll be discovering and analysing them."
   ]
  },
  {
   "cell_type": "markdown",
   "metadata": {},
   "source": [
    "#### -Let's see the average income of customers using the app"
   ]
  },
  {
   "cell_type": "code",
   "execution_count": 68,
   "metadata": {},
   "outputs": [
    {
     "data": {
      "text/plain": [
       "65924.491099765321"
      ]
     },
     "execution_count": 68,
     "metadata": {},
     "output_type": "execute_result"
    }
   ],
   "source": [
    "merged_df['customer_income'].mean()"
   ]
  },
  {
   "cell_type": "code",
   "execution_count": 69,
   "metadata": {},
   "outputs": [
    {
     "data": {
      "image/png": "[encoded data removed]",
      "text/plain": [
       "<matplotlib.figure.Figure at 0x7f229384d0b8>"
      ]
     },
     "metadata": {},
     "output_type": "display_data"
    }
   ],
   "source": [
    "sns.distplot(merged_df['customer_income'], bins=50, color=\"y\", hist_kws={'alpha': 0.4});"
   ]
  },
  {
   "cell_type": "markdown",
   "metadata": {},
   "source": [
    "#### -Let's look at age distribution of customers"
   ]
  },
  {
   "cell_type": "code",
   "execution_count": 70,
   "metadata": {},
   "outputs": [
    {
     "data": {
      "image/png": "[encoded data removed]",
      "text/plain": [
       "<matplotlib.figure.Figure at 0x7f22938405f8>"
      ]
     },
     "metadata": {},
     "output_type": "display_data"
    }
   ],
   "source": [
    "merged_df['Age_group'].value_counts().plot.barh(title=' Distribution of age groups')\n",
    "rotation='vertical'"
   ]
  },
  {
   "cell_type": "markdown",
   "metadata": {},
   "source": [
    "According to this data set, the group which is 46-60 years are the most active user of the app."
   ]
  },
  {
   "cell_type": "markdown",
   "metadata": {},
   "source": [
    "#### - Let's have a look at actions to the offers "
   ]
  },
  {
   "cell_type": "code",
   "execution_count": 71,
   "metadata": {},
   "outputs": [
    {
     "data": {
      "text/plain": [
       "<matplotlib.axes._subplots.AxesSubplot at 0x7f22939eca58>"
      ]
     },
     "execution_count": 71,
     "metadata": {},
     "output_type": "execute_result"
    },
    {
     "data": {
      "image/png": "[encoded data removed]",
      "text/plain": [
       "<matplotlib.figure.Figure at 0x7f2293855ef0>"
      ]
     },
     "metadata": {},
     "output_type": "display_data"
    }
   ],
   "source": [
    "merged_df['event'].value_counts().plot.bar(title=' Distribution of offers')"
   ]
  },
  {
   "cell_type": "markdown",
   "metadata": {},
   "source": [
    "This implies most of the customers who don't pay attention to the offer. Also, there are more number of customers who just view & ignore the offer than the one's who actually complete the offer.\n"
   ]
  },
  {
   "cell_type": "markdown",
   "metadata": {},
   "source": [
    "#### -For a better analysis, let us analyze the data based on gender."
   ]
  },
  {
   "cell_type": "code",
   "execution_count": 72,
   "metadata": {},
   "outputs": [
    {
     "data": {
      "text/plain": [
       "<matplotlib.legend.Legend at 0x7f2293a3ac18>"
      ]
     },
     "execution_count": 72,
     "metadata": {},
     "output_type": "execute_result"
    },
    {
     "data": {
      "image/png": "[encoded data removed]",
      "text/plain": [
       "<matplotlib.figure.Figure at 0x7f2293988198>"
      ]
     },
     "metadata": {},
     "output_type": "display_data"
    }
   ],
   "source": [
    "plot_gender = merged_df[merged_df['gender'] != 'O']\n",
    "plt.figure(figsize=(15, 5))\n",
    "sns.countplot(x= \"Age_group\", hue= \"gender\", data=plot_gender)\n",
    "sns.set(style=\"darkgrid\")\n",
    "plt.title('Gender distribution in age groups')\n",
    "plt.ylabel('Count')\n",
    "plt.xlabel('Age Group')\n",
    "plt.legend(title='Gender')"
   ]
  },
  {
   "cell_type": "code",
   "execution_count": 73,
   "metadata": {},
   "outputs": [
    {
     "data": {
      "text/plain": [
       "<matplotlib.legend.Legend at 0x7f22939d4400>"
      ]
     },
     "execution_count": 73,
     "metadata": {},
     "output_type": "execute_result"
    },
    {
     "data": {
      "image/png": "[encoded data removed]",
      "text/plain": [
       "<matplotlib.figure.Figure at 0x7f2293a3ae80>"
      ]
     },
     "metadata": {},
     "output_type": "display_data"
    }
   ],
   "source": [
    "plt.figure(figsize=(15, 5))\n",
    "sns.countplot(x= \"offer_type\", hue= \"gender\", data=plot_gender)\n",
    "sns.set(style=\"whitegrid\")\n",
    "plt.title('Gender distribution in offer types')\n",
    "plt.ylabel('Count')\n",
    "plt.xlabel('Offer Type')\n",
    "plt.legend(title='Gender')"
   ]
  },
  {
   "cell_type": "markdown",
   "metadata": {},
   "source": [
    "-Let's check the actions to the offers that males & females received"
   ]
  },
  {
   "cell_type": "code",
   "execution_count": 74,
   "metadata": {},
   "outputs": [
    {
     "data": {
      "text/plain": [
       "<matplotlib.legend.Legend at 0x7f2293aa4fd0>"
      ]
     },
     "execution_count": 74,
     "metadata": {},
     "output_type": "execute_result"
    },
    {
     "data": {
      "image/png": "[encoded data removed]",
      "text/plain": [
       "<matplotlib.figure.Figure at 0x7f2293a237f0>"
      ]
     },
     "metadata": {},
     "output_type": "display_data"
    }
   ],
   "source": [
    "plt.figure(figsize=(15, 5))\n",
    "sns.countplot(x= \"event\", hue= \"gender\", data=plot_gender)\n",
    "sns.set(style=\"darkgrid\")\n",
    "plt.title('Gender distribution in events')\n",
    "plt.ylabel('Count')\n",
    "plt.xlabel('Event')\n",
    "plt.legend(title='Gender')"
   ]
  },
  {
   "cell_type": "markdown",
   "metadata": {},
   "source": [
    "-Actions to the offers in each age group"
   ]
  },
  {
   "cell_type": "code",
   "execution_count": 75,
   "metadata": {},
   "outputs": [
    {
     "data": {
      "text/plain": [
       "<matplotlib.legend.Legend at 0x7f2293a07cc0>"
      ]
     },
     "execution_count": 75,
     "metadata": {},
     "output_type": "execute_result"
    },
    {
     "data": {
      "image/png": "[encoded data removed]",
      "text/plain": [
       "<matplotlib.figure.Figure at 0x7f2293ab0780>"
      ]
     },
     "metadata": {},
     "output_type": "display_data"
    }
   ],
   "source": [
    "plt.figure(figsize=(15, 5))\n",
    "sns.countplot(x= \"Age_group\", hue= \"event\", data=plot_gender)\n",
    "sns.set(style=\"darkgrid\")\n",
    "plt.title('Age distribution in events')\n",
    "plt.ylabel('Count')\n",
    "plt.xlabel('Age Group')\n",
    "plt.legend(title='Event')"
   ]
  },
  {
   "cell_type": "markdown",
   "metadata": {},
   "source": [
    "# Building a Machine Learning model to predict response of a customer"
   ]
  },
  {
   "cell_type": "markdown",
   "metadata": {},
   "source": [
    "## Data Preparation and Cleaning for modelling"
   ]
  },
  {
   "cell_type": "code",
   "execution_count": 78,
   "metadata": {},
   "outputs": [
    {
     "data": {
      "text/html": [
       "<div>\n",
       "<style scoped>\n",
       "    .dataframe tbody tr th:only-of-type {\n",
       "        vertical-align: middle;\n",
       "    }\n",
       "\n",
       "    .dataframe tbody tr th {\n",
       "        vertical-align: top;\n",
       "    }\n",
       "\n",
       "    .dataframe thead th {\n",
       "        text-align: right;\n",
       "    }\n",
       "</style>\n",
       "<table border=\"1\" class=\"dataframe\">\n",
       "  <thead>\n",
       "    <tr style=\"text-align: right;\">\n",
       "      <th></th>\n",
       "      <th>channels</th>\n",
       "      <th>offer_difficulty</th>\n",
       "      <th>offer_duration</th>\n",
       "      <th>offer_id</th>\n",
       "      <th>offer_type</th>\n",
       "      <th>offer_reward</th>\n",
       "      <th>event</th>\n",
       "      <th>customer_id</th>\n",
       "      <th>time</th>\n",
       "      <th>amount</th>\n",
       "      <th>money_gained</th>\n",
       "      <th>money_spent</th>\n",
       "      <th>became_member_on</th>\n",
       "      <th>gender</th>\n",
       "      <th>customer_income</th>\n",
       "      <th>Age_group</th>\n",
       "    </tr>\n",
       "  </thead>\n",
       "  <tbody>\n",
       "    <tr>\n",
       "      <th>0</th>\n",
       "      <td>[email, mobile, social]</td>\n",
       "      <td>10</td>\n",
       "      <td>7</td>\n",
       "      <td>ae264e3637204a6fb9bb56bc8210ddfd</td>\n",
       "      <td>bogo</td>\n",
       "      <td>10</td>\n",
       "      <td>offer received</td>\n",
       "      <td>4b0da7e80e5945209a1fdddfe813dbe0</td>\n",
       "      <td>0</td>\n",
       "      <td>0.0</td>\n",
       "      <td>0.0</td>\n",
       "      <td>0.0</td>\n",
       "      <td>20170909</td>\n",
       "      <td>M</td>\n",
       "      <td>100000.0</td>\n",
       "      <td>61-80</td>\n",
       "    </tr>\n",
       "    <tr>\n",
       "      <th>1</th>\n",
       "      <td>[email, mobile, social]</td>\n",
       "      <td>10</td>\n",
       "      <td>7</td>\n",
       "      <td>ae264e3637204a6fb9bb56bc8210ddfd</td>\n",
       "      <td>bogo</td>\n",
       "      <td>10</td>\n",
       "      <td>offer viewed</td>\n",
       "      <td>4b0da7e80e5945209a1fdddfe813dbe0</td>\n",
       "      <td>102</td>\n",
       "      <td>0.0</td>\n",
       "      <td>0.0</td>\n",
       "      <td>0.0</td>\n",
       "      <td>20170909</td>\n",
       "      <td>M</td>\n",
       "      <td>100000.0</td>\n",
       "      <td>61-80</td>\n",
       "    </tr>\n",
       "    <tr>\n",
       "      <th>2</th>\n",
       "      <td>[email, mobile, social]</td>\n",
       "      <td>10</td>\n",
       "      <td>7</td>\n",
       "      <td>ae264e3637204a6fb9bb56bc8210ddfd</td>\n",
       "      <td>bogo</td>\n",
       "      <td>10</td>\n",
       "      <td>offer received</td>\n",
       "      <td>4b0da7e80e5945209a1fdddfe813dbe0</td>\n",
       "      <td>504</td>\n",
       "      <td>0.0</td>\n",
       "      <td>0.0</td>\n",
       "      <td>0.0</td>\n",
       "      <td>20170909</td>\n",
       "      <td>M</td>\n",
       "      <td>100000.0</td>\n",
       "      <td>61-80</td>\n",
       "    </tr>\n",
       "    <tr>\n",
       "      <th>3</th>\n",
       "      <td>[email, mobile, social]</td>\n",
       "      <td>10</td>\n",
       "      <td>7</td>\n",
       "      <td>ae264e3637204a6fb9bb56bc8210ddfd</td>\n",
       "      <td>bogo</td>\n",
       "      <td>10</td>\n",
       "      <td>offer viewed</td>\n",
       "      <td>4b0da7e80e5945209a1fdddfe813dbe0</td>\n",
       "      <td>510</td>\n",
       "      <td>0.0</td>\n",
       "      <td>0.0</td>\n",
       "      <td>0.0</td>\n",
       "      <td>20170909</td>\n",
       "      <td>M</td>\n",
       "      <td>100000.0</td>\n",
       "      <td>61-80</td>\n",
       "    </tr>\n",
       "    <tr>\n",
       "      <th>4</th>\n",
       "      <td>[email, mobile, social]</td>\n",
       "      <td>10</td>\n",
       "      <td>7</td>\n",
       "      <td>ae264e3637204a6fb9bb56bc8210ddfd</td>\n",
       "      <td>bogo</td>\n",
       "      <td>10</td>\n",
       "      <td>offer completed</td>\n",
       "      <td>4b0da7e80e5945209a1fdddfe813dbe0</td>\n",
       "      <td>510</td>\n",
       "      <td>0.0</td>\n",
       "      <td>10.0</td>\n",
       "      <td>0.0</td>\n",
       "      <td>20170909</td>\n",
       "      <td>M</td>\n",
       "      <td>100000.0</td>\n",
       "      <td>61-80</td>\n",
       "    </tr>\n",
       "    <tr>\n",
       "      <th>5</th>\n",
       "      <td>[web, email, mobile]</td>\n",
       "      <td>0</td>\n",
       "      <td>4</td>\n",
       "      <td>3f207df678b143eea3cee63160fa8bed</td>\n",
       "      <td>informational</td>\n",
       "      <td>0</td>\n",
       "      <td>offer received</td>\n",
       "      <td>4b0da7e80e5945209a1fdddfe813dbe0</td>\n",
       "      <td>408</td>\n",
       "      <td>0.0</td>\n",
       "      <td>0.0</td>\n",
       "      <td>0.0</td>\n",
       "      <td>20170909</td>\n",
       "      <td>M</td>\n",
       "      <td>100000.0</td>\n",
       "      <td>61-80</td>\n",
       "    </tr>\n",
       "    <tr>\n",
       "      <th>6</th>\n",
       "      <td>[web, email, mobile]</td>\n",
       "      <td>0</td>\n",
       "      <td>4</td>\n",
       "      <td>3f207df678b143eea3cee63160fa8bed</td>\n",
       "      <td>informational</td>\n",
       "      <td>0</td>\n",
       "      <td>offer viewed</td>\n",
       "      <td>4b0da7e80e5945209a1fdddfe813dbe0</td>\n",
       "      <td>468</td>\n",
       "      <td>0.0</td>\n",
       "      <td>0.0</td>\n",
       "      <td>0.0</td>\n",
       "      <td>20170909</td>\n",
       "      <td>M</td>\n",
       "      <td>100000.0</td>\n",
       "      <td>61-80</td>\n",
       "    </tr>\n",
       "  </tbody>\n",
       "</table>\n",
       "</div>"
      ],
      "text/plain": [
       "                  channels  offer_difficulty  offer_duration  \\\n",
       "0  [email, mobile, social]                10               7   \n",
       "1  [email, mobile, social]                10               7   \n",
       "2  [email, mobile, social]                10               7   \n",
       "3  [email, mobile, social]                10               7   \n",
       "4  [email, mobile, social]                10               7   \n",
       "5     [web, email, mobile]                 0               4   \n",
       "6     [web, email, mobile]                 0               4   \n",
       "\n",
       "                           offer_id     offer_type  offer_reward  \\\n",
       "0  ae264e3637204a6fb9bb56bc8210ddfd           bogo            10   \n",
       "1  ae264e3637204a6fb9bb56bc8210ddfd           bogo            10   \n",
       "2  ae264e3637204a6fb9bb56bc8210ddfd           bogo            10   \n",
       "3  ae264e3637204a6fb9bb56bc8210ddfd           bogo            10   \n",
       "4  ae264e3637204a6fb9bb56bc8210ddfd           bogo            10   \n",
       "5  3f207df678b143eea3cee63160fa8bed  informational             0   \n",
       "6  3f207df678b143eea3cee63160fa8bed  informational             0   \n",
       "\n",
       "             event                       customer_id  time  amount  \\\n",
       "0   offer received  4b0da7e80e5945209a1fdddfe813dbe0     0     0.0   \n",
       "1     offer viewed  4b0da7e80e5945209a1fdddfe813dbe0   102     0.0   \n",
       "2   offer received  4b0da7e80e5945209a1fdddfe813dbe0   504     0.0   \n",
       "3     offer viewed  4b0da7e80e5945209a1fdddfe813dbe0   510     0.0   \n",
       "4  offer completed  4b0da7e80e5945209a1fdddfe813dbe0   510     0.0   \n",
       "5   offer received  4b0da7e80e5945209a1fdddfe813dbe0   408     0.0   \n",
       "6     offer viewed  4b0da7e80e5945209a1fdddfe813dbe0   468     0.0   \n",
       "\n",
       "   money_gained  money_spent  became_member_on gender  customer_income  \\\n",
       "0           0.0          0.0          20170909      M         100000.0   \n",
       "1           0.0          0.0          20170909      M         100000.0   \n",
       "2           0.0          0.0          20170909      M         100000.0   \n",
       "3           0.0          0.0          20170909      M         100000.0   \n",
       "4          10.0          0.0          20170909      M         100000.0   \n",
       "5           0.0          0.0          20170909      M         100000.0   \n",
       "6           0.0          0.0          20170909      M         100000.0   \n",
       "\n",
       "  Age_group  \n",
       "0     61-80  \n",
       "1     61-80  \n",
       "2     61-80  \n",
       "3     61-80  \n",
       "4     61-80  \n",
       "5     61-80  \n",
       "6     61-80  "
      ]
     },
     "execution_count": 78,
     "metadata": {},
     "output_type": "execute_result"
    }
   ],
   "source": [
    "merged_df.head(7)"
   ]
  },
  {
   "cell_type": "code",
   "execution_count": 79,
   "metadata": {},
   "outputs": [
    {
     "name": "stdout",
     "output_type": "stream",
     "text": [
      "<class 'pandas.core.frame.DataFrame'>\n",
      "Int64Index: 157503 entries, 0 to 157502\n",
      "Data columns (total 16 columns):\n",
      "channels            157503 non-null object\n",
      "offer_difficulty    157503 non-null int64\n",
      "offer_duration      157503 non-null int64\n",
      "offer_id            157503 non-null object\n",
      "offer_type          157503 non-null object\n",
      "offer_reward        157503 non-null int64\n",
      "event               157503 non-null object\n",
      "customer_id         157503 non-null object\n",
      "time                157503 non-null int64\n",
      "amount              157503 non-null float64\n",
      "money_gained        157503 non-null float64\n",
      "money_spent         157503 non-null float64\n",
      "became_member_on    157503 non-null int64\n",
      "gender              157503 non-null object\n",
      "customer_income     157503 non-null float64\n",
      "Age_group           157503 non-null object\n",
      "dtypes: float64(4), int64(5), object(7)\n",
      "memory usage: 20.4+ MB\n"
     ]
    }
   ],
   "source": [
    "merged_df.info()"
   ]
  },
  {
   "cell_type": "markdown",
   "metadata": {},
   "source": [
    "#### TASKS"
   ]
  },
  {
   "cell_type": "raw",
   "metadata": {},
   "source": [
    "-Encode categorical data such as gender, offer type, channel and age groups.\n",
    "-Encode the 'event' data to numerical values:\n",
    "    offer received ---> 1\n",
    "    offer viewed ---> 2\n",
    "    offer completed ---> 3\n",
    "-Encode offer id and customer id.\n",
    "-Drop column 'became_member_on' and add separate columns for month and year.\n",
    "-Scale and normalize numerical data."
   ]
  },
  {
   "cell_type": "code",
   "execution_count": 80,
   "metadata": {},
   "outputs": [],
   "source": [
    "def cleaning_final_data(df):\n",
    "    \"\"\"\n",
    "    Clean merged data frame for the final data as per tasks 1-5.\n",
    "    \n",
    "    Parameters\n",
    "    ----------\n",
    "    df: input data frame\n",
    "    \n",
    "    Returns\n",
    "    -------\n",
    "    df: cleaned data frame as per tasks\n",
    "       \n",
    "    \"\"\"\n",
    "    #process categorical variables\n",
    "    categorical = ['offer_type', 'gender', 'Age_group']\n",
    "    df = pd.get_dummies(df, columns = categorical)\n",
    "    #process channels column \n",
    "    df = df.drop('channels', 1).join(df.channels.str.join('|').str.get_dummies())\n",
    "    \n",
    "    #process became_member_on column\n",
    "    #change datatype of became_member_on \n",
    "    df['became_member_on'] = df['became_member_on'].apply(lambda x: pd.to_datetime(str(x), format='%Y%m%d'))\n",
    "    #add new columns for month & year\n",
    "    df['month_member'] = df['became_member_on'].apply(lambda x: x.day)\n",
    "    df['year_member'] = df['became_member_on'].apply(lambda x: x.year)\n",
    "    #drop became_member_on column\n",
    "    df.drop('became_member_on',axis=1, inplace=True)    \n",
    "    \n",
    "    #process offer_id column\n",
    "    offerids = df['offer_id'].unique().tolist()\n",
    "    o_mapping = dict( zip(offerids,range(len(offerids))) )\n",
    "    df.replace({'offer_id': o_mapping},inplace=True)\n",
    "    \n",
    "    #process customer_id column\n",
    "    cusids = df['customer_id'].unique().tolist()\n",
    "    c_mapping = dict( zip(cusids,range(len(cusids))) )\n",
    "    df.replace({'customer_id': c_mapping},inplace=True)\n",
    "    \n",
    "    #process numerical variables\n",
    "    #initialize a MinMaxScaler, then apply it to the features\n",
    "    scaler = MinMaxScaler() # default=(0, 1)\n",
    "    numerical = ['customer_income', 'offer_difficulty', 'offer_duration', 'offer_reward', 'time', 'money_gained', 'money_spent']\n",
    "    df[numerical] = scaler.fit_transform(df[numerical])\n",
    "    \n",
    "    #encode 'event' data to numerical values according to task 2\n",
    "    df['event'] = df['event'].map({'offer received':1, 'offer viewed':2, 'offer completed':3})\n",
    "    \n",
    "    return df"
   ]
  },
  {
   "cell_type": "code",
   "execution_count": 81,
   "metadata": {},
   "outputs": [],
   "source": [
    "from sklearn.preprocessing import MinMaxScaler\n",
    "from sklearn.model_selection import train_test_split\n",
    "from sklearn.ensemble import RandomForestClassifier\n",
    "from sklearn.neighbors import KNeighborsClassifier\n",
    "from sklearn.metrics import fbeta_score, accuracy_score\n",
    "from sklearn.tree import DecisionTreeClassifier \n",
    "from sklearn.model_selection import cross_val_score\n",
    "import warnings"
   ]
  },
  {
   "cell_type": "code",
   "execution_count": 82,
   "metadata": {},
   "outputs": [],
   "source": [
    "cleaned_data = cleaning_final_data(merged_df)"
   ]
  },
  {
   "cell_type": "code",
   "execution_count": 83,
   "metadata": {},
   "outputs": [
    {
     "data": {
      "text/plain": [
       "Index(['offer_difficulty', 'offer_duration', 'offer_id', 'offer_reward',\n",
       "       'event', 'customer_id', 'time', 'amount', 'money_gained', 'money_spent',\n",
       "       'customer_income', 'offer_type_bogo', 'offer_type_discount',\n",
       "       'offer_type_informational', 'gender_F', 'gender_M', 'gender_O',\n",
       "       'Age_group_20-45', 'Age_group_46-60', 'Age_group_61-80',\n",
       "       'Age_group_Under 20', 'email', 'mobile', 'social', 'web',\n",
       "       'month_member', 'year_member'],\n",
       "      dtype='object')"
      ]
     },
     "execution_count": 83,
     "metadata": {},
     "output_type": "execute_result"
    }
   ],
   "source": [
    "cleaned_data.columns"
   ]
  },
  {
   "cell_type": "code",
   "execution_count": 84,
   "metadata": {},
   "outputs": [
    {
     "data": {
      "text/html": [
       "<div>\n",
       "<style scoped>\n",
       "    .dataframe tbody tr th:only-of-type {\n",
       "        vertical-align: middle;\n",
       "    }\n",
       "\n",
       "    .dataframe tbody tr th {\n",
       "        vertical-align: top;\n",
       "    }\n",
       "\n",
       "    .dataframe thead th {\n",
       "        text-align: right;\n",
       "    }\n",
       "</style>\n",
       "<table border=\"1\" class=\"dataframe\">\n",
       "  <thead>\n",
       "    <tr style=\"text-align: right;\">\n",
       "      <th></th>\n",
       "      <th>offer_difficulty</th>\n",
       "      <th>offer_duration</th>\n",
       "      <th>offer_id</th>\n",
       "      <th>offer_reward</th>\n",
       "      <th>event</th>\n",
       "      <th>customer_id</th>\n",
       "      <th>time</th>\n",
       "      <th>amount</th>\n",
       "      <th>money_gained</th>\n",
       "      <th>money_spent</th>\n",
       "      <th>...</th>\n",
       "      <th>Age_group_20-45</th>\n",
       "      <th>Age_group_46-60</th>\n",
       "      <th>Age_group_61-80</th>\n",
       "      <th>Age_group_Under 20</th>\n",
       "      <th>email</th>\n",
       "      <th>mobile</th>\n",
       "      <th>social</th>\n",
       "      <th>web</th>\n",
       "      <th>month_member</th>\n",
       "      <th>year_member</th>\n",
       "    </tr>\n",
       "  </thead>\n",
       "  <tbody>\n",
       "    <tr>\n",
       "      <th>0</th>\n",
       "      <td>0.5</td>\n",
       "      <td>0.571429</td>\n",
       "      <td>0</td>\n",
       "      <td>1.0</td>\n",
       "      <td>1</td>\n",
       "      <td>0</td>\n",
       "      <td>0.000000</td>\n",
       "      <td>0.0</td>\n",
       "      <td>0.0</td>\n",
       "      <td>0.0</td>\n",
       "      <td>...</td>\n",
       "      <td>0</td>\n",
       "      <td>0</td>\n",
       "      <td>1</td>\n",
       "      <td>0</td>\n",
       "      <td>1</td>\n",
       "      <td>1</td>\n",
       "      <td>1</td>\n",
       "      <td>0</td>\n",
       "      <td>9</td>\n",
       "      <td>2017</td>\n",
       "    </tr>\n",
       "    <tr>\n",
       "      <th>1</th>\n",
       "      <td>0.5</td>\n",
       "      <td>0.571429</td>\n",
       "      <td>0</td>\n",
       "      <td>1.0</td>\n",
       "      <td>2</td>\n",
       "      <td>0</td>\n",
       "      <td>0.142857</td>\n",
       "      <td>0.0</td>\n",
       "      <td>0.0</td>\n",
       "      <td>0.0</td>\n",
       "      <td>...</td>\n",
       "      <td>0</td>\n",
       "      <td>0</td>\n",
       "      <td>1</td>\n",
       "      <td>0</td>\n",
       "      <td>1</td>\n",
       "      <td>1</td>\n",
       "      <td>1</td>\n",
       "      <td>0</td>\n",
       "      <td>9</td>\n",
       "      <td>2017</td>\n",
       "    </tr>\n",
       "    <tr>\n",
       "      <th>2</th>\n",
       "      <td>0.5</td>\n",
       "      <td>0.571429</td>\n",
       "      <td>0</td>\n",
       "      <td>1.0</td>\n",
       "      <td>1</td>\n",
       "      <td>0</td>\n",
       "      <td>0.705882</td>\n",
       "      <td>0.0</td>\n",
       "      <td>0.0</td>\n",
       "      <td>0.0</td>\n",
       "      <td>...</td>\n",
       "      <td>0</td>\n",
       "      <td>0</td>\n",
       "      <td>1</td>\n",
       "      <td>0</td>\n",
       "      <td>1</td>\n",
       "      <td>1</td>\n",
       "      <td>1</td>\n",
       "      <td>0</td>\n",
       "      <td>9</td>\n",
       "      <td>2017</td>\n",
       "    </tr>\n",
       "    <tr>\n",
       "      <th>3</th>\n",
       "      <td>0.5</td>\n",
       "      <td>0.571429</td>\n",
       "      <td>0</td>\n",
       "      <td>1.0</td>\n",
       "      <td>2</td>\n",
       "      <td>0</td>\n",
       "      <td>0.714286</td>\n",
       "      <td>0.0</td>\n",
       "      <td>0.0</td>\n",
       "      <td>0.0</td>\n",
       "      <td>...</td>\n",
       "      <td>0</td>\n",
       "      <td>0</td>\n",
       "      <td>1</td>\n",
       "      <td>0</td>\n",
       "      <td>1</td>\n",
       "      <td>1</td>\n",
       "      <td>1</td>\n",
       "      <td>0</td>\n",
       "      <td>9</td>\n",
       "      <td>2017</td>\n",
       "    </tr>\n",
       "    <tr>\n",
       "      <th>4</th>\n",
       "      <td>0.5</td>\n",
       "      <td>0.571429</td>\n",
       "      <td>0</td>\n",
       "      <td>1.0</td>\n",
       "      <td>3</td>\n",
       "      <td>0</td>\n",
       "      <td>0.714286</td>\n",
       "      <td>0.0</td>\n",
       "      <td>1.0</td>\n",
       "      <td>0.0</td>\n",
       "      <td>...</td>\n",
       "      <td>0</td>\n",
       "      <td>0</td>\n",
       "      <td>1</td>\n",
       "      <td>0</td>\n",
       "      <td>1</td>\n",
       "      <td>1</td>\n",
       "      <td>1</td>\n",
       "      <td>0</td>\n",
       "      <td>9</td>\n",
       "      <td>2017</td>\n",
       "    </tr>\n",
       "    <tr>\n",
       "      <th>5</th>\n",
       "      <td>0.0</td>\n",
       "      <td>0.142857</td>\n",
       "      <td>1</td>\n",
       "      <td>0.0</td>\n",
       "      <td>1</td>\n",
       "      <td>0</td>\n",
       "      <td>0.571429</td>\n",
       "      <td>0.0</td>\n",
       "      <td>0.0</td>\n",
       "      <td>0.0</td>\n",
       "      <td>...</td>\n",
       "      <td>0</td>\n",
       "      <td>0</td>\n",
       "      <td>1</td>\n",
       "      <td>0</td>\n",
       "      <td>1</td>\n",
       "      <td>1</td>\n",
       "      <td>0</td>\n",
       "      <td>1</td>\n",
       "      <td>9</td>\n",
       "      <td>2017</td>\n",
       "    </tr>\n",
       "    <tr>\n",
       "      <th>6</th>\n",
       "      <td>0.0</td>\n",
       "      <td>0.142857</td>\n",
       "      <td>1</td>\n",
       "      <td>0.0</td>\n",
       "      <td>2</td>\n",
       "      <td>0</td>\n",
       "      <td>0.655462</td>\n",
       "      <td>0.0</td>\n",
       "      <td>0.0</td>\n",
       "      <td>0.0</td>\n",
       "      <td>...</td>\n",
       "      <td>0</td>\n",
       "      <td>0</td>\n",
       "      <td>1</td>\n",
       "      <td>0</td>\n",
       "      <td>1</td>\n",
       "      <td>1</td>\n",
       "      <td>0</td>\n",
       "      <td>1</td>\n",
       "      <td>9</td>\n",
       "      <td>2017</td>\n",
       "    </tr>\n",
       "  </tbody>\n",
       "</table>\n",
       "<p>7 rows × 27 columns</p>\n",
       "</div>"
      ],
      "text/plain": [
       "   offer_difficulty  offer_duration  offer_id  offer_reward  event  \\\n",
       "0               0.5        0.571429         0           1.0      1   \n",
       "1               0.5        0.571429         0           1.0      2   \n",
       "2               0.5        0.571429         0           1.0      1   \n",
       "3               0.5        0.571429         0           1.0      2   \n",
       "4               0.5        0.571429         0           1.0      3   \n",
       "5               0.0        0.142857         1           0.0      1   \n",
       "6               0.0        0.142857         1           0.0      2   \n",
       "\n",
       "   customer_id      time  amount  money_gained  money_spent     ...       \\\n",
       "0            0  0.000000     0.0           0.0          0.0     ...        \n",
       "1            0  0.142857     0.0           0.0          0.0     ...        \n",
       "2            0  0.705882     0.0           0.0          0.0     ...        \n",
       "3            0  0.714286     0.0           0.0          0.0     ...        \n",
       "4            0  0.714286     0.0           1.0          0.0     ...        \n",
       "5            0  0.571429     0.0           0.0          0.0     ...        \n",
       "6            0  0.655462     0.0           0.0          0.0     ...        \n",
       "\n",
       "   Age_group_20-45  Age_group_46-60  Age_group_61-80  Age_group_Under 20  \\\n",
       "0                0                0                1                   0   \n",
       "1                0                0                1                   0   \n",
       "2                0                0                1                   0   \n",
       "3                0                0                1                   0   \n",
       "4                0                0                1                   0   \n",
       "5                0                0                1                   0   \n",
       "6                0                0                1                   0   \n",
       "\n",
       "   email  mobile  social  web  month_member  year_member  \n",
       "0      1       1       1    0             9         2017  \n",
       "1      1       1       1    0             9         2017  \n",
       "2      1       1       1    0             9         2017  \n",
       "3      1       1       1    0             9         2017  \n",
       "4      1       1       1    0             9         2017  \n",
       "5      1       1       0    1             9         2017  \n",
       "6      1       1       0    1             9         2017  \n",
       "\n",
       "[7 rows x 27 columns]"
      ]
     },
     "execution_count": 84,
     "metadata": {},
     "output_type": "execute_result"
    }
   ],
   "source": [
    "cleaned_data.head(7)"
   ]
  },
  {
   "cell_type": "code",
   "execution_count": 85,
   "metadata": {},
   "outputs": [
    {
     "data": {
      "text/plain": [
       "(157503, 27)"
      ]
     },
     "execution_count": 85,
     "metadata": {},
     "output_type": "execute_result"
    }
   ],
   "source": [
    "cleaned_data.shape"
   ]
  },
  {
   "cell_type": "code",
   "execution_count": 86,
   "metadata": {},
   "outputs": [
    {
     "data": {
      "text/plain": [
       "1    71863\n",
       "2    54396\n",
       "3    31244\n",
       "Name: event, dtype: int64"
      ]
     },
     "execution_count": 86,
     "metadata": {},
     "output_type": "execute_result"
    }
   ],
   "source": [
    "cleaned_data.event.value_counts()"
   ]
  },
  {
   "cell_type": "markdown",
   "metadata": {},
   "source": [
    "# Splitting the data as train and test"
   ]
  },
  {
   "cell_type": "code",
   "execution_count": 87,
   "metadata": {},
   "outputs": [],
   "source": [
    "data = cleaned_data.drop('event', axis=1)\n",
    "label = cleaned_data['event']"
   ]
  },
  {
   "cell_type": "code",
   "execution_count": 88,
   "metadata": {},
   "outputs": [
    {
     "name": "stdout",
     "output_type": "stream",
     "text": [
      "Training set: 110252 rows\n",
      "Testing set: 47251 rows\n"
     ]
    }
   ],
   "source": [
    "#Splitting the dataset as %70 Train and %30 Test\n",
    "X_train, X_test, y_train, y_test = train_test_split(data, label, test_size = 0.3, random_state = 0)\n",
    "\n",
    "print(\"Training set: {} rows\".format(X_train.shape[0]))\n",
    "print(\"Testing set: {} rows\".format(X_test.shape[0]))"
   ]
  },
  {
   "cell_type": "markdown",
   "metadata": {},
   "source": [
    "### Training and Testing"
   ]
  },
  {
   "cell_type": "markdown",
   "metadata": {},
   "source": [
    "Metrics: The F1 score will be considered as the model metric to assess the quality of the approach and determine which model gives the best results. It can be interpreted as the weighted average of the precision and recall. The traditional or balanced F-score (F1 score) is the harmonic mean of precision and recall, where an F1 score reaches its best value at 100 and worst at 0."
   ]
  },
  {
   "cell_type": "code",
   "execution_count": 89,
   "metadata": {},
   "outputs": [],
   "source": [
    "def train_test(clf):\n",
    "    \"\"\"\n",
    "    Return train and test F1 score along with the model name\n",
    "       \n",
    "    Parameters\n",
    "    --------\n",
    "    clf: estimator instance\n",
    "    \n",
    "    Returns\n",
    "    --------\n",
    "    train_f1: train data F1 score\n",
    "    test_f1: test data F1 score\n",
    "    name: model name\n",
    "       \n",
    "    \"\"\"\n",
    "    train_prediction =  (clf.fit(X_train, y_train)).predict(X_train)\n",
    "    test_predictions = (clf.fit(X_train, y_train)).predict(X_test)\n",
    "    train_f1 =  accuracy_score(y_train, train_prediction)*100\n",
    "    test_f1= fbeta_score(y_test, test_predictions, beta = 0.5, average='micro' )*100\n",
    "    name = clf.__class__.__name__\n",
    "    \n",
    "    return train_f1, test_f1, name"
   ]
  },
  {
   "cell_type": "code",
   "execution_count": 90,
   "metadata": {},
   "outputs": [],
   "source": [
    "##RandomForestClassifier"
   ]
  },
  {
   "cell_type": "code",
   "execution_count": 91,
   "metadata": {},
   "outputs": [],
   "source": [
    "clf_B = RandomForestClassifier(random_state = 10)\n",
    "b_train_f1, b_test_f1, b_model = train_test(clf_B)"
   ]
  },
  {
   "cell_type": "code",
   "execution_count": 92,
   "metadata": {},
   "outputs": [],
   "source": [
    "##DecisionTreeClassifier"
   ]
  },
  {
   "cell_type": "code",
   "execution_count": 93,
   "metadata": {},
   "outputs": [],
   "source": [
    "clf_C = DecisionTreeClassifier(random_state = 10)\n",
    "c_train_f1, c_test_f1, c_model = train_test(clf_C)"
   ]
  },
  {
   "cell_type": "code",
   "execution_count": 94,
   "metadata": {},
   "outputs": [],
   "source": [
    "##KNeighborsClassifier"
   ]
  },
  {
   "cell_type": "code",
   "execution_count": 95,
   "metadata": {},
   "outputs": [],
   "source": [
    "clf_A = KNeighborsClassifier(n_neighbors = 5)\n",
    "a_train_f1, a_test_f1, a_model = train_test(clf_A)"
   ]
  },
  {
   "cell_type": "code",
   "execution_count": 96,
   "metadata": {},
   "outputs": [],
   "source": [
    "knn = {'Benchmark Model': [ a_model], 'train F1 score':[a_train_f1], 'test F1 score': [a_test_f1]}\n",
    "benchmark = pd.DataFrame(knn)"
   ]
  },
  {
   "cell_type": "code",
   "execution_count": 97,
   "metadata": {},
   "outputs": [
    {
     "data": {
      "text/html": [
       "<div>\n",
       "<style scoped>\n",
       "    .dataframe tbody tr th:only-of-type {\n",
       "        vertical-align: middle;\n",
       "    }\n",
       "\n",
       "    .dataframe tbody tr th {\n",
       "        vertical-align: top;\n",
       "    }\n",
       "\n",
       "    .dataframe thead th {\n",
       "        text-align: right;\n",
       "    }\n",
       "</style>\n",
       "<table border=\"1\" class=\"dataframe\">\n",
       "  <thead>\n",
       "    <tr style=\"text-align: right;\">\n",
       "      <th></th>\n",
       "      <th>Benchmark Model</th>\n",
       "      <th>train F1 score</th>\n",
       "      <th>test F1 score</th>\n",
       "    </tr>\n",
       "  </thead>\n",
       "  <tbody>\n",
       "    <tr>\n",
       "      <th>0</th>\n",
       "      <td>KNeighborsClassifier</td>\n",
       "      <td>53.005841</td>\n",
       "      <td>30.947493</td>\n",
       "    </tr>\n",
       "  </tbody>\n",
       "</table>\n",
       "</div>"
      ],
      "text/plain": [
       "        Benchmark Model  train F1 score  test F1 score\n",
       "0  KNeighborsClassifier       53.005841      30.947493"
      ]
     },
     "execution_count": 97,
     "metadata": {},
     "output_type": "execute_result"
    }
   ],
   "source": [
    "benchmark"
   ]
  },
  {
   "cell_type": "markdown",
   "metadata": {},
   "source": [
    "### Conclusions"
   ]
  },
  {
   "cell_type": "code",
   "execution_count": 98,
   "metadata": {},
   "outputs": [
    {
     "data": {
      "text/plain": [
       "<seaborn.axisgrid.FacetGrid at 0x7f228df81438>"
      ]
     },
     "execution_count": 98,
     "metadata": {},
     "output_type": "execute_result"
    },
    {
     "data": {
      "image/png": "[encoded data removed]",
      "text/plain": [
       "<matplotlib.figure.Figure at 0x7f228df81898>"
      ]
     },
     "metadata": {},
     "output_type": "display_data"
    }
   ],
   "source": [
    "d = {'color': ['C0', \"#e74c3c\"]}\n",
    "g = sns.FacetGrid(plot_gender, row='event', col='gender', hue_kws=d, hue='gender', size=5)\n",
    "g.map(plt.hist, 'offer_type')"
   ]
  },
  {
   "cell_type": "markdown",
   "metadata": {},
   "source": [
    "When we see the results that the males represent 57.3% of the data and use the Starbucks app more than the females. Specifically, both males & females in the age group 46-60 use apps the most. Discount offers are more preferred by the customers. Also, there is less number of customers who actually complete the offer as compared to the ones who just view & ignore it. We can look more at the figures & information in section- iii) Exploratory Data Analysis (points 1-10) to best determine which kind of offers to send to the customers."
   ]
  },
  {
   "cell_type": "code",
   "execution_count": 99,
   "metadata": {},
   "outputs": [],
   "source": [
    "models = {'Model': ['KNeighborsClassifier (Benchmark)', b_model, c_model], \n",
    "          'train F1 score ':[a_train_f1, b_train_f1, c_train_f1], \n",
    "          'test F1 score': [a_test_f1 , b_test_f1, c_test_f1] }\n",
    "          \n",
    "results = pd.DataFrame(models)"
   ]
  },
  {
   "cell_type": "code",
   "execution_count": 100,
   "metadata": {},
   "outputs": [
    {
     "data": {
      "text/html": [
       "<div>\n",
       "<style scoped>\n",
       "    .dataframe tbody tr th:only-of-type {\n",
       "        vertical-align: middle;\n",
       "    }\n",
       "\n",
       "    .dataframe tbody tr th {\n",
       "        vertical-align: top;\n",
       "    }\n",
       "\n",
       "    .dataframe thead th {\n",
       "        text-align: right;\n",
       "    }\n",
       "</style>\n",
       "<table border=\"1\" class=\"dataframe\">\n",
       "  <thead>\n",
       "    <tr style=\"text-align: right;\">\n",
       "      <th></th>\n",
       "      <th>Model</th>\n",
       "      <th>train F1 score</th>\n",
       "      <th>test F1 score</th>\n",
       "    </tr>\n",
       "  </thead>\n",
       "  <tbody>\n",
       "    <tr>\n",
       "      <th>0</th>\n",
       "      <td>KNeighborsClassifier (Benchmark)</td>\n",
       "      <td>53.005841</td>\n",
       "      <td>30.947493</td>\n",
       "    </tr>\n",
       "    <tr>\n",
       "      <th>1</th>\n",
       "      <td>RandomForestClassifier</td>\n",
       "      <td>93.669049</td>\n",
       "      <td>69.285306</td>\n",
       "    </tr>\n",
       "    <tr>\n",
       "      <th>2</th>\n",
       "      <td>DecisionTreeClassifier</td>\n",
       "      <td>94.703044</td>\n",
       "      <td>84.863812</td>\n",
       "    </tr>\n",
       "  </tbody>\n",
       "</table>\n",
       "</div>"
      ],
      "text/plain": [
       "                              Model  train F1 score   test F1 score\n",
       "0  KNeighborsClassifier (Benchmark)        53.005841      30.947493\n",
       "1            RandomForestClassifier        93.669049      69.285306\n",
       "2            DecisionTreeClassifier        94.703044      84.863812"
      ]
     },
     "execution_count": 100,
     "metadata": {},
     "output_type": "execute_result"
    }
   ],
   "source": [
    "results"
   ]
  },
  {
   "cell_type": "markdown",
   "metadata": {},
   "source": [
    "The validation test data set is used to evaluate the model. Both the models are better than the benchmark. The best score is created by the DecisionTreeClassifier model, as its validated F1 score is 84.86, which is much higher than the benchmark. The RandomForestClassifier model scores well as well compared to the benchmark, with a test F1 score of 69.28. Our problem to solve is not that sensitive which requires a very high F1 score, so the scores are good & sufficient and can be used for the classification purpose to predict whether a customer will respond to an offer."
   ]
  }
 ],
 "metadata": {
  "kernelspec": {
   "display_name": "Python 3",
   "language": "python",
   "name": "python3"
  },
  "language_info": {
   "codemirror_mode": {
    "name": "ipython",
    "version": 3
   },
   "file_extension": ".py",
   "mimetype": "text/x-python",
   "name": "python",
   "nbconvert_exporter": "python",
   "pygments_lexer": "ipython3",
   "version": "3.6.3"
  }
 },
 "nbformat": 4,
 "nbformat_minor": 2
}
